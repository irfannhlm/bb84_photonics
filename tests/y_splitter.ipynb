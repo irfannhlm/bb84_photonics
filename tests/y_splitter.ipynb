{
 "cells": [
  {
   "cell_type": "code",
   "execution_count": null,
   "id": "30f102d8",
   "metadata": {},
   "outputs": [
    {
     "name": "stdout",
     "output_type": "stream",
     "text": [
      "Starting live viewer at http://localhost:5002\n"
     ]
    }
   ],
   "source": [
    "# lookup https://docs.flexcompute.com/projects/photonforge/en/v1.1.2/examples/Y_Splitter.html\n",
    "\n",
    "import numpy as np\n",
    "import photonforge as pf\n",
    "import photonforge.live_viewer as live_viewer\n",
    "from matplotlib import pyplot as plt\n",
    "\n",
    "viewer = live_viewer.LiveViewer(port=5002)"
   ]
  },
  {
   "cell_type": "code",
   "execution_count": 2,
   "id": "b729f952",
   "metadata": {},
   "outputs": [],
   "source": [
    "tech = pf.basic_technology()\n",
    "pf.config.default_technology = tech"
   ]
  },
  {
   "cell_type": "code",
   "execution_count": 3,
   "id": "3e498fef",
   "metadata": {},
   "outputs": [
    {
     "data": {
      "text/html": [
       "<table><thead><tr><th style=\"text-align:center\">Name</th><th style=\"text-align:center\">Layer</th><th style=\"text-align:center\">Description</th><th style=\"text-align:center\">Color</th><th style=\"text-align:center\">Pattern</th></tr></thead><tbody><tr><td style=\"text-align:left\">WG_CLAD</td><td style=\"text-align:center\">(1, 0)</td><td style=\"text-align:left\">Waveguide clad</td><td style=\"text-align:center;background-color:#9da6a2\">#9da6a218</td><td style=\"text-align:center\">.</td></tr><tr><td style=\"text-align:left\">WG_CORE</td><td style=\"text-align:center\">(2, 0)</td><td style=\"text-align:left\">Waveguide core</td><td style=\"text-align:center;background-color:#6db5dd\">#6db5dd18</td><td style=\"text-align:center\">/</td></tr><tr><td style=\"text-align:left\">SLAB</td><td style=\"text-align:center\">(3, 0)</td><td style=\"text-align:left\">Slab region</td><td style=\"text-align:center;background-color:#8851ad\">#8851ad18</td><td style=\"text-align:center\">:</td></tr><tr><td style=\"text-align:left\">TRENCH</td><td style=\"text-align:center\">(4, 0)</td><td style=\"text-align:left\"><details><summary>Deep-etched trench for chip…</summary>… facets</details></td><td style=\"text-align:center;background-color:#535e59\">#535e5918</td><td style=\"text-align:center\">+</td></tr><tr><td style=\"text-align:left\">METAL</td><td style=\"text-align:center\">(5, 0)</td><td style=\"text-align:left\">Metal layer</td><td style=\"text-align:center;background-color:#b8a18b\">#b8a18b18</td><td style=\"text-align:center\">\\</td></tr></tbody></table>"
      ],
      "text/plain": [
       "  Name   Layer             Description               Color    Pattern\n",
       "---------------------------------------------------------------------\n",
       "WG_CLAD  (1, 0)  Waveguide clad                    #9da6a218     .   \n",
       "WG_CORE  (2, 0)  Waveguide core                    #6db5dd18     /   \n",
       "SLAB     (3, 0)  Slab region                       #8851ad18     :   \n",
       "TRENCH   (4, 0)  Deep-etched trench for chip fac…  #535e5918     +   \n",
       "METAL    (5, 0)  Metal layer                       #b8a18b18     \\   "
      ]
     },
     "execution_count": 3,
     "metadata": {},
     "output_type": "execute_result"
    }
   ],
   "source": [
    "tech.layers"
   ]
  },
  {
   "cell_type": "code",
   "execution_count": 4,
   "id": "0af2b5d3",
   "metadata": {},
   "outputs": [
    {
     "name": "stdout",
     "output_type": "stream",
     "text": [
      "Port specifications:\n",
      "- Strip: PortSpec(description=\"Strip waveguide\", width=2.25, limits=(-1, 1.22), num_modes=1, added_solver_modes=0, polarization=\"\", target_neff=4, default_radius=0, path_profiles=[(0.5, 0, (2, 0)), (2.5, 0, (1, 0))])\n",
      "- Rib: PortSpec(description=\"Rib waveguide\", width=2.16, limits=(-1, 1.22), num_modes=1, added_solver_modes=0, polarization=\"\", target_neff=4, default_radius=0, path_profiles=[(0.4, 0, (2, 0)), (2.4, 0, (3, 0)), (2.4, 0, (1, 0))])\n",
      "- CPW: PortSpec(description=\"CPW transmission line\", width=26.0552, limits=(-9.05312, 12.9931), num_modes=1, added_solver_modes=1, polarization=\"\", target_neff=4, default_radius=0, path_profiles={\"signal\": (3.6, 0, (5, 0)), \"gnd0\": (8.9776, -8.7888, (5, 0)), \"gnd1\": (8.9776, 8.7888, (5, 0))}, voltage_path=[(4.3, 1.97), (1.8, 1.97)], current_path=[(3.05, 3.47), (-3.05, 3.47), (-3.05, 0.47), (3.05, 0.47)])\n"
     ]
    }
   ],
   "source": [
    "print(\"Port specifications:\")\n",
    "for name, spec in tech.ports.items():\n",
    "    print(f\"- {name}: {spec!r}\")"
   ]
  },
  {
   "cell_type": "code",
   "execution_count": 5,
   "id": "9dd684e8",
   "metadata": {},
   "outputs": [
    {
     "name": "stdout",
     "output_type": "stream",
     "text": [
      "Extrusion specifications:\n",
      "1. ExtrusionSpec(mask_spec=MaskSpec((2, 0)), medium={\"optical\": cSi_Li1993_293K, \"electrical\": Medium(permittivity=12.3)}, limits=(0, 0.22), sidewall_angle=0, reference=\"top\")\n",
      "2. ExtrusionSpec(mask_spec=MaskSpec((3, 0)), medium={\"optical\": cSi_Li1993_293K, \"electrical\": Medium(permittivity=12.3)}, limits=(0, 0.07), sidewall_angle=0, reference=\"top\")\n",
      "3. ExtrusionSpec(mask_spec=MaskSpec((5, 0)), medium={\"optical\": Cu_JohnsonChristy1972, \"electrical\": PEC}, limits=(1.72, 2.22), sidewall_angle=0, reference=\"top\")\n",
      "4. ExtrusionSpec(mask_spec=MaskSpec((4, 0)), medium={\"optical\": Medium(), \"electrical\": Medium()}, limits=(-2e+07, 2e+07), sidewall_angle=0, reference=\"top\")\n"
     ]
    }
   ],
   "source": [
    "print(\"Extrusion specifications:\")\n",
    "for i, spec in enumerate(tech.extrusion_specs):\n",
    "    print(f\"{i + 1}. {spec!r}\")"
   ]
  },
  {
   "cell_type": "code",
   "execution_count": 6,
   "id": "f4c474b0",
   "metadata": {},
   "outputs": [
    {
     "data": {
      "image/svg+xml": [
       "<?xml version=\"1.0\" encoding=\"UTF-8\"?><svg xmlns=\"http://www.w3.org/2000/svg\" xmlns:xlink=\"http://www.w3.org/1999/xlink\" height=\"10.000000rem\" viewBox=\"-0.100000 -0.800000 2.200000 1.600000\"><style>path{fill:#a3b8d6;stroke:#908f8f;stroke-width:0.016000;}rect{fill:#a3b8d6;stroke:#908f8f;stroke-width:0.016000;}circle{fill:#a3b8d6;stroke:#908f8f;stroke-width:0.016000;}ellipse{fill:#a3b8d6;stroke:#908f8f;stroke-width:0.016000;}.reference{fill:none;stroke:#221f20;stroke-width:0.011200;}.label{transform:scale(1,-1);fill:#221f20;font-weight:bold;font-size:0.128000px;}.terminal{fill:none;stroke:#805080;stroke-width:0.016000;}.dashed{stroke-dasharray:0.080000,0.048000;}.port{fill:none;stroke:#805080;stroke-width:0.032000;}.virtual-connection{fill:none;stroke:#907090;stroke-width:0.024000;}</style><defs><path id=\"port-symbol\" class=\"port\" d=\"M 0,-0.064000 L 0.096000,0 0,0.064000\" /><path id=\"ref-port-symbol\" class=\"port\" style=\"stroke-opacity:0.33;\" d=\"M 0,-0.048000 C 0.064000,-0.048000 0.064000,0.048000 0,0.048000\" /><circle id=\"port-bend-symbol\" style=\"stroke-width:0;stroke:none;fill:#805080;\" cx=\"0\" cy=\"0\" r=\"0.028800\" /><circle id=\"connection-symbol\" style=\"stroke-width:0;stroke:none;fill:#907090;\" cx=\"0\" cy=\"0\" r=\"0.033600\" /></defs><g transform=\"scale(1 -1)\"><path class=\"\" d=\"M 0.000000,-0.250000 0.167000,-0.250000 0.333000,-0.300000 0.500000,-0.350000 0.667000,-0.450000 0.833000,-0.630000 1.000000,-0.700000 1.167000,-0.700000 1.333000,-0.700000 1.500000,-0.700000 1.667000,-0.655000 1.833000,-0.600000 2.000000,-0.600000 2.000000,0.600000 1.833000,0.600000 1.667000,0.655000 1.500000,0.700000 1.333000,0.700000 1.167000,0.700000 1.000000,0.700000 0.833000,0.630000 0.667000,0.450000 0.500000,0.350000 0.333000,0.300000 0.167000,0.250000 0.000000,0.250000 z\" /></g></svg>"
      ],
      "text/plain": [
       "Polygon(vertices=[(0, -0.25), (0.167, -0.25), (0.333, -0.3), (0.5, -0.35), (0.667, -0.45), (0.833, -0.63), (1, -0.7), (1.167, -0.7), (1.333, -0.7), (1.5, -0.7), (1.667, -0.655), (1.833, -0.6), (2, -0.6), (2, 0.6), (1.833, 0.6), (1.667, 0.655), (1.5, 0.7), (1.333, 0.7), (1.167, 0.7), (1, 0.7), (0.833, 0.63), (0.667, 0.45), (0.5, 0.35), (0.333, 0.3), (0.167, 0.25), (0, 0.25)], holes=[])"
      ]
     },
     "execution_count": 6,
     "metadata": {},
     "output_type": "execute_result"
    }
   ],
   "source": [
    "# Values from the optimized Y splitter\n",
    "w = np.array((0.5, 0.5, 0.6, 0.7, 0.9, 1.26, 1.4, 1.4, 1.4, 1.4, 1.31, 1.2, 1.2))\n",
    "length = 2.0\n",
    "y_out = 0.35\n",
    "\n",
    "vertices = np.vstack((np.linspace(0, length, len(w)), -0.5 * w)).T\n",
    "y_polygon = pf.Polygon(np.vstack((vertices, vertices[::-1] * np.array((1, -1)))))\n",
    "\n",
    "y_polygon"
   ]
  },
  {
   "cell_type": "code",
   "execution_count": 7,
   "id": "1a09530b",
   "metadata": {},
   "outputs": [],
   "source": [
    "port_spec = pf.config.default_technology.ports[\"Strip\"]\n",
    "\n",
    "bimodal_clad_margin = 2 * (w[-1] + 2)\n",
    "bimodal_port = pf.PortSpec(\n",
    "    \"Output test\",\n",
    "    width=0.9 * bimodal_clad_margin,\n",
    "    limits=port_spec.limits,\n",
    "    num_modes=2 * port_spec.num_modes,\n",
    "    target_neff=port_spec.target_neff,\n",
    "    path_profiles={\n",
    "        (bimodal_clad_margin, 0, \"WG_CLAD\"),\n",
    "        (0.5, y_out, \"WG_CORE\"),\n",
    "        (0.5, -y_out, \"WG_CORE\"),\n",
    "    },\n",
    ")"
   ]
  },
  {
   "cell_type": "code",
   "execution_count": 8,
   "id": "029958a4",
   "metadata": {},
   "outputs": [
    {
     "name": "stdout",
     "output_type": "stream",
     "text": [
      "Uploading task 'Mode-ModeSolver'…\n",
      "Starting task 'Mode-ModeSolver': https://tidy3d.simulation.cloud/workbench?taskId=mo-235c2c38-3189-43ab-b92c-0eaffde4dfff\n"
     ]
    },
    {
     "data": {
      "text/html": [
       "<pre style=\"white-space:pre;overflow-x:auto;line-height:normal;font-family:Menlo,'DejaVu Sans Mono',consolas,'Courier New',monospace\"><span style=\"color: #7fbfbf; text-decoration-color: #7fbfbf\">16:11:56 SE Asia Standard Time </span><span style=\"color: #800000; text-decoration-color: #800000; font-weight: bold\">ERROR: Simulation cannot be submitted due to an  </span>\n",
       "<span style=\"color: #7fbfbf; text-decoration-color: #7fbfbf\">                               </span><span style=\"color: #800000; text-decoration-color: #800000; font-weight: bold\">expired account balance.                         </span>\n",
       "</pre>\n"
      ],
      "text/plain": [
       "\u001b[2;36m16:11:56 SE Asia Standard Time\u001b[0m\u001b[2;36m \u001b[0m\u001b[1;31mERROR: Simulation cannot be submitted due to an  \u001b[0m\n",
       "\u001b[2;36m                               \u001b[0m\u001b[1;31mexpired account balance.                         \u001b[0m\n"
      ]
     },
     "metadata": {},
     "output_type": "display_data"
    },
    {
     "ename": "WebError",
     "evalue": "Simulation cannot be submitted due to an expired account balance.",
     "output_type": "error",
     "traceback": [
      "\u001b[31m---------------------------------------------------------------------------\u001b[39m",
      "\u001b[31mWebError\u001b[39m                                  Traceback (most recent call last)",
      "\u001b[36mCell\u001b[39m\u001b[36m \u001b[39m\u001b[32mIn[8]\u001b[39m\u001b[32m, line 1\u001b[39m\n\u001b[32m----> \u001b[39m\u001b[32m1\u001b[39m mode_solver = \u001b[43mpf\u001b[49m\u001b[43m.\u001b[49m\u001b[43mport_modes\u001b[49m\u001b[43m(\u001b[49m\u001b[43mbimodal_port\u001b[49m\u001b[43m,\u001b[49m\u001b[43m \u001b[49m\u001b[43m[\u001b[49m\u001b[43mpf\u001b[49m\u001b[43m.\u001b[49m\u001b[43mC_0\u001b[49m\u001b[43m \u001b[49m\u001b[43m/\u001b[49m\u001b[43m \u001b[49m\u001b[32;43m1.55\u001b[39;49m\u001b[43m]\u001b[49m\u001b[43m)\u001b[49m\n\u001b[32m      3\u001b[39m _, ax = plt.subplots(\u001b[32m1\u001b[39m, \u001b[32m2\u001b[39m, figsize=(\u001b[32m10\u001b[39m, \u001b[32m2\u001b[39m), tight_layout=\u001b[38;5;28;01mTrue\u001b[39;00m)\n\u001b[32m      4\u001b[39m mode_solver.plot_field(\u001b[33m\"\u001b[39m\u001b[33mEy\u001b[39m\u001b[33m\"\u001b[39m, mode_index=\u001b[32m0\u001b[39m, robust=\u001b[38;5;28;01mFalse\u001b[39;00m, ax=ax[\u001b[32m0\u001b[39m])\n",
      "\u001b[36mFile \u001b[39m\u001b[32mc:\\Users\\James\\AppData\\Local\\Programs\\Python\\Python313\\Lib\\site-packages\\photonforge\\tidy3d_model.py:706\u001b[39m, in \u001b[36mport_modes\u001b[39m\u001b[34m(port, frequencies, mesh_refinement, group_index, impedance, technology, task_name, remote_path, verbose, show_progress)\u001b[39m\n\u001b[32m    703\u001b[39m     \u001b[38;5;28mprint\u001b[39m(\u001b[33m\"\u001b[39m\u001b[33mStarting…\u001b[39m\u001b[33m\"\u001b[39m, end=\u001b[33m\"\u001b[39m\u001b[38;5;130;01m\\r\u001b[39;00m\u001b[33m\"\u001b[39m, flush=\u001b[38;5;28;01mTrue\u001b[39;00m)\n\u001b[32m    705\u001b[39m \u001b[38;5;28;01mwhile\u001b[39;00m \u001b[38;5;28;01mTrue\u001b[39;00m:\n\u001b[32m--> \u001b[39m\u001b[32m706\u001b[39m     status = \u001b[43mrunner\u001b[49m\u001b[43m.\u001b[49m\u001b[43mstatus\u001b[49m\n\u001b[32m    707\u001b[39m     message = status[\u001b[33m\"\u001b[39m\u001b[33mmessage\u001b[39m\u001b[33m\"\u001b[39m]\n\u001b[32m    708\u001b[39m     \u001b[38;5;28;01mif\u001b[39;00m message == \u001b[33m\"\u001b[39m\u001b[33msuccess\u001b[39m\u001b[33m\"\u001b[39m:\n",
      "\u001b[36mFile \u001b[39m\u001b[32mc:\\Users\\James\\AppData\\Local\\Programs\\Python\\Python313\\Lib\\site-packages\\photonforge\\tidy3d_model.py:620\u001b[39m, in \u001b[36m_ModeSolverRunner.status\u001b[39m\u001b[34m(self)\u001b[39m\n\u001b[32m    618\u001b[39m \u001b[38;5;129m@property\u001b[39m\n\u001b[32m    619\u001b[39m \u001b[38;5;28;01mdef\u001b[39;00m\u001b[38;5;250m \u001b[39m\u001b[34mstatus\u001b[39m(\u001b[38;5;28mself\u001b[39m) -> \u001b[38;5;28mdict\u001b[39m[\u001b[38;5;28mstr\u001b[39m, Any]:\n\u001b[32m--> \u001b[39m\u001b[32m620\u001b[39m     \u001b[38;5;28;01mreturn\u001b[39;00m \u001b[38;5;28;43mself\u001b[39;49m\u001b[43m.\u001b[49m\u001b[43mrunner\u001b[49m\u001b[43m.\u001b[49m\u001b[43mstatus\u001b[49m\n",
      "\u001b[36mFile \u001b[39m\u001b[32mc:\\Users\\James\\AppData\\Local\\Programs\\Python\\Python313\\Lib\\site-packages\\photonforge\\tidy3d_model.py:454\u001b[39m, in \u001b[36m_Tidy3DTaskRunner.status\u001b[39m\u001b[34m(self)\u001b[39m\n\u001b[32m    452\u001b[39m         url = webapi._get_url(\u001b[38;5;28mself\u001b[39m.task_id)\n\u001b[32m    453\u001b[39m         \u001b[38;5;28mprint\u001b[39m(\u001b[33mf\u001b[39m\u001b[33m\"\u001b[39m\u001b[33mStarting task \u001b[39m\u001b[33m'\u001b[39m\u001b[38;5;132;01m{\u001b[39;00m\u001b[38;5;28mself\u001b[39m.task_name\u001b[38;5;132;01m}\u001b[39;00m\u001b[33m'\u001b[39m\u001b[33m: \u001b[39m\u001b[38;5;132;01m{\u001b[39;00murl\u001b[38;5;132;01m}\u001b[39;00m\u001b[33m\"\u001b[39m)\n\u001b[32m--> \u001b[39m\u001b[32m454\u001b[39m     \u001b[43mweb\u001b[49m\u001b[43m.\u001b[49m\u001b[43mstart\u001b[49m\u001b[43m(\u001b[49m\u001b[38;5;28;43mself\u001b[39;49m\u001b[43m.\u001b[49m\u001b[43mtask_id\u001b[49m\u001b[43m)\u001b[49m\n\u001b[32m    455\u001b[39m     _pending_tasks.add(\u001b[38;5;28mself\u001b[39m.task_id)\n\u001b[32m    457\u001b[39m \u001b[38;5;28;01melif\u001b[39;00m \u001b[38;5;28mself\u001b[39m.task_id \u001b[38;5;129;01mnot\u001b[39;00m \u001b[38;5;129;01min\u001b[39;00m _pending_tasks \u001b[38;5;129;01mand\u001b[39;00m \u001b[38;5;28mself\u001b[39m._status[\u001b[33m\"\u001b[39m\u001b[33mmessage\u001b[39m\u001b[33m\"\u001b[39m] == \u001b[33m\"\u001b[39m\u001b[33mrunning\u001b[39m\u001b[33m\"\u001b[39m:\n\u001b[32m    458\u001b[39m     \u001b[38;5;66;03m# Run finished, download just finished\u001b[39;00m\n",
      "\u001b[36mFile \u001b[39m\u001b[32mc:\\Users\\James\\AppData\\Local\\Programs\\Python\\Python313\\Lib\\site-packages\\tidy3d\\web\\api\\connect_util.py:36\u001b[39m, in \u001b[36mwait_for_connection.<locals>.decorator.<locals>.web_fn_wrapped\u001b[39m\u001b[34m(*args, **kwargs)\u001b[39m\n\u001b[32m     34\u001b[39m \u001b[38;5;28;01mwhile\u001b[39;00m (time.time() - time_start) < wait_time_sec:\n\u001b[32m     35\u001b[39m     \u001b[38;5;28;01mtry\u001b[39;00m:\n\u001b[32m---> \u001b[39m\u001b[32m36\u001b[39m         \u001b[38;5;28;01mreturn\u001b[39;00m \u001b[43mweb_fn\u001b[49m\u001b[43m(\u001b[49m\u001b[43m*\u001b[49m\u001b[43margs\u001b[49m\u001b[43m,\u001b[49m\u001b[43m \u001b[49m\u001b[43m*\u001b[49m\u001b[43m*\u001b[49m\u001b[43mkwargs\u001b[49m\u001b[43m)\u001b[49m\n\u001b[32m     37\u001b[39m     \u001b[38;5;28;01mexcept\u001b[39;00m (ConnErr, \u001b[38;5;167;01mConnectionError\u001b[39;00m, NewConnectionError, ReadTimeout, JSONDecodeError):\n\u001b[32m     38\u001b[39m         \u001b[38;5;28;01mif\u001b[39;00m \u001b[38;5;129;01mnot\u001b[39;00m warned_previously:\n",
      "\u001b[36mFile \u001b[39m\u001b[32mc:\\Users\\James\\AppData\\Local\\Programs\\Python\\Python313\\Lib\\site-packages\\tidy3d\\web\\api\\webapi.py:406\u001b[39m, in \u001b[36mstart\u001b[39m\u001b[34m(task_id, solver_version, worker_group, pay_type, priority)\u001b[39m\n\u001b[32m    404\u001b[39m \u001b[38;5;28;01mif\u001b[39;00m \u001b[38;5;129;01mnot\u001b[39;00m task:\n\u001b[32m    405\u001b[39m     \u001b[38;5;28;01mraise\u001b[39;00m \u001b[38;5;167;01mValueError\u001b[39;00m(\u001b[33m\"\u001b[39m\u001b[33mTask not found.\u001b[39m\u001b[33m\"\u001b[39m)\n\u001b[32m--> \u001b[39m\u001b[32m406\u001b[39m \u001b[43mtask\u001b[49m\u001b[43m.\u001b[49m\u001b[43msubmit\u001b[49m\u001b[43m(\u001b[49m\n\u001b[32m    407\u001b[39m \u001b[43m    \u001b[49m\u001b[43msolver_version\u001b[49m\u001b[43m=\u001b[49m\u001b[43msolver_version\u001b[49m\u001b[43m,\u001b[49m\n\u001b[32m    408\u001b[39m \u001b[43m    \u001b[49m\u001b[43mworker_group\u001b[49m\u001b[43m=\u001b[49m\u001b[43mworker_group\u001b[49m\u001b[43m,\u001b[49m\n\u001b[32m    409\u001b[39m \u001b[43m    \u001b[49m\u001b[43mpay_type\u001b[49m\u001b[43m=\u001b[49m\u001b[43mpay_type\u001b[49m\u001b[43m,\u001b[49m\n\u001b[32m    410\u001b[39m \u001b[43m    \u001b[49m\u001b[43mpriority\u001b[49m\u001b[43m=\u001b[49m\u001b[43mpriority\u001b[49m\u001b[43m,\u001b[49m\n\u001b[32m    411\u001b[39m \u001b[43m\u001b[49m\u001b[43m)\u001b[49m\n",
      "\u001b[36mFile \u001b[39m\u001b[32mc:\\Users\\James\\AppData\\Local\\Programs\\Python\\Python313\\Lib\\site-packages\\tidy3d\\web\\core\\task_core.py:459\u001b[39m, in \u001b[36mSimulationTask.submit\u001b[39m\u001b[34m(self, solver_version, worker_group, pay_type, priority)\u001b[39m\n\u001b[32m    456\u001b[39m \u001b[38;5;28;01melse\u001b[39;00m:\n\u001b[32m    457\u001b[39m     protocol_version = http_util.get_version()\n\u001b[32m--> \u001b[39m\u001b[32m459\u001b[39m \u001b[43mhttp\u001b[49m\u001b[43m.\u001b[49m\u001b[43mpost\u001b[49m\u001b[43m(\u001b[49m\n\u001b[32m    460\u001b[39m \u001b[43m    \u001b[49m\u001b[33;43mf\u001b[39;49m\u001b[33;43m\"\u001b[39;49m\u001b[33;43mtidy3d/tasks/\u001b[39;49m\u001b[38;5;132;43;01m{\u001b[39;49;00m\u001b[38;5;28;43mself\u001b[39;49m\u001b[43m.\u001b[49m\u001b[43mtask_id\u001b[49m\u001b[38;5;132;43;01m}\u001b[39;49;00m\u001b[33;43m/submit\u001b[39;49m\u001b[33;43m\"\u001b[39;49m\u001b[43m,\u001b[49m\n\u001b[32m    461\u001b[39m \u001b[43m    \u001b[49m\u001b[43m{\u001b[49m\n\u001b[32m    462\u001b[39m \u001b[43m        \u001b[49m\u001b[33;43m\"\u001b[39;49m\u001b[33;43msolverVersion\u001b[39;49m\u001b[33;43m\"\u001b[39;49m\u001b[43m:\u001b[49m\u001b[43m \u001b[49m\u001b[43msolver_version\u001b[49m\u001b[43m,\u001b[49m\n\u001b[32m    463\u001b[39m \u001b[43m        \u001b[49m\u001b[33;43m\"\u001b[39;49m\u001b[33;43mworkerGroup\u001b[39;49m\u001b[33;43m\"\u001b[39;49m\u001b[43m:\u001b[49m\u001b[43m \u001b[49m\u001b[43mworker_group\u001b[49m\u001b[43m,\u001b[49m\n\u001b[32m    464\u001b[39m \u001b[43m        \u001b[49m\u001b[33;43m\"\u001b[39;49m\u001b[33;43mprotocolVersion\u001b[39;49m\u001b[33;43m\"\u001b[39;49m\u001b[43m:\u001b[49m\u001b[43m \u001b[49m\u001b[43mprotocol_version\u001b[49m\u001b[43m,\u001b[49m\n\u001b[32m    465\u001b[39m \u001b[43m        \u001b[49m\u001b[33;43m\"\u001b[39;49m\u001b[33;43menableCaching\u001b[39;49m\u001b[33;43m\"\u001b[39;49m\u001b[43m:\u001b[49m\u001b[43m \u001b[49m\u001b[43mEnv\u001b[49m\u001b[43m.\u001b[49m\u001b[43mcurrent\u001b[49m\u001b[43m.\u001b[49m\u001b[43menable_caching\u001b[49m\u001b[43m,\u001b[49m\n\u001b[32m    466\u001b[39m \u001b[43m        \u001b[49m\u001b[33;43m\"\u001b[39;49m\u001b[33;43mpayType\u001b[39;49m\u001b[33;43m\"\u001b[39;49m\u001b[43m:\u001b[49m\u001b[43m \u001b[49m\u001b[43mpay_type\u001b[49m\u001b[43m.\u001b[49m\u001b[43mvalue\u001b[49m\u001b[43m,\u001b[49m\n\u001b[32m    467\u001b[39m \u001b[43m        \u001b[49m\u001b[33;43m\"\u001b[39;49m\u001b[33;43mpriority\u001b[39;49m\u001b[33;43m\"\u001b[39;49m\u001b[43m:\u001b[49m\u001b[43m \u001b[49m\u001b[43mpriority\u001b[49m\u001b[43m,\u001b[49m\n\u001b[32m    468\u001b[39m \u001b[43m    \u001b[49m\u001b[43m}\u001b[49m\u001b[43m,\u001b[49m\n\u001b[32m    469\u001b[39m \u001b[43m\u001b[49m\u001b[43m)\u001b[49m\n",
      "\u001b[36mFile \u001b[39m\u001b[32mc:\\Users\\James\\AppData\\Local\\Programs\\Python\\Python313\\Lib\\site-packages\\tidy3d\\web\\core\\http_util.py:138\u001b[39m, in \u001b[36mhttp_interceptor.<locals>.wrapper\u001b[39m\u001b[34m(*args, **kwargs)\u001b[39m\n\u001b[32m    136\u001b[39m     json_resp = resp.json()\n\u001b[32m    137\u001b[39m     \u001b[38;5;28;01mif\u001b[39;00m \u001b[33m\"\u001b[39m\u001b[33merror\u001b[39m\u001b[33m\"\u001b[39m \u001b[38;5;129;01min\u001b[39;00m json_resp.keys():\n\u001b[32m--> \u001b[39m\u001b[32m138\u001b[39m         \u001b[38;5;28;01mraise\u001b[39;00m WebError(json_resp[\u001b[33m\"\u001b[39m\u001b[33merror\u001b[39m\u001b[33m\"\u001b[39m])\n\u001b[32m    139\u001b[39m     resp.raise_for_status()\n\u001b[32m    141\u001b[39m \u001b[38;5;28;01mif\u001b[39;00m \u001b[38;5;129;01mnot\u001b[39;00m resp.text:\n",
      "\u001b[31mWebError\u001b[39m: Simulation cannot be submitted due to an expired account balance."
     ]
    }
   ],
   "source": [
    "mode_solver = pf.port_modes(bimodal_port, [pf.C_0 / 1.55])\n",
    "\n",
    "_, ax = plt.subplots(1, 2, figsize=(10, 2), tight_layout=True)\n",
    "mode_solver.plot_field(\"Ey\", mode_index=0, robust=False, ax=ax[0])\n",
    "mode_solver.plot_field(\"Ey\", mode_index=1, robust=False, ax=ax[1])\n",
    "\n",
    "mode_solver.data.to_dataframe()"
   ]
  },
  {
   "cell_type": "code",
   "execution_count": 9,
   "id": "5db191f9",
   "metadata": {},
   "outputs": [
    {
     "data": {
      "image/svg+xml": [
       "<?xml version=\"1.0\" encoding=\"UTF-8\"?><svg xmlns=\"http://www.w3.org/2000/svg\" xmlns:xlink=\"http://www.w3.org/1999/xlink\" height=\"20.000000rem\" viewBox=\"-0.200000 -1.200000 4.400000 2.400000\"><style>path{fill:#a3b8d6;stroke:#908f8f;stroke-width:0.012000;}rect{fill:#a3b8d6;stroke:#908f8f;stroke-width:0.012000;}circle{fill:#a3b8d6;stroke:#908f8f;stroke-width:0.012000;}ellipse{fill:#a3b8d6;stroke:#908f8f;stroke-width:0.012000;}.reference{fill:none;stroke:#221f20;stroke-width:0.008400;}.label{transform:scale(1,-1);fill:#221f20;font-weight:bold;font-size:0.096000px;}.terminal{fill:none;stroke:#805080;stroke-width:0.012000;}.dashed{stroke-dasharray:0.060000,0.036000;}.port{fill:none;stroke:#805080;stroke-width:0.024000;}.virtual-connection{fill:none;stroke:#907090;stroke-width:0.018000;}.layer_1_0{stroke:#9da6a2;fill:#9da6a2;fill-opacity:0.094;}.label_1_0{fill:#9da6a2;}.layer_2_0{stroke:#6db5dd;fill:#6db5dd;fill-opacity:0.094;}.label_2_0{fill:#6db5dd;}.layer_3_0{stroke:#8851ad;fill:#8851ad;fill-opacity:0.094;}.label_3_0{fill:#8851ad;}.layer_4_0{stroke:#535e59;fill:#535e59;fill-opacity:0.094;}.label_4_0{fill:#535e59;}.layer_5_0{stroke:#b8a18b;fill:#b8a18b;fill-opacity:0.094;}.label_5_0{fill:#b8a18b;}</style><defs><path id=\"port-symbol\" class=\"port\" d=\"M 0,-0.048000 L 0.072000,0 0,0.048000\" /><path id=\"ref-port-symbol\" class=\"port\" style=\"stroke-opacity:0.33;\" d=\"M 0,-0.036000 C 0.048000,-0.036000 0.048000,0.036000 0,0.036000\" /><circle id=\"port-bend-symbol\" style=\"stroke-width:0;stroke:none;fill:#805080;\" cx=\"0\" cy=\"0\" r=\"0.021600\" /><circle id=\"connection-symbol\" style=\"stroke-width:0;stroke:none;fill:#907090;\" cx=\"0\" cy=\"0\" r=\"0.025200\" /></defs><g transform=\"scale(1 -1)\"><g id=\"C0\"><path class=\"layer_2_0\" d=\"M 0.000000,-0.250000 0.167000,-0.250000 0.333000,-0.300000 0.500000,-0.350000 0.667000,-0.450000 0.833000,-0.630000 1.000000,-0.700000 1.167000,-0.700000 1.333000,-0.700000 1.500000,-0.700000 1.667000,-0.655000 1.833000,-0.600000 2.000000,-0.600000 2.000000,0.600000 1.833000,0.600000 1.667000,0.655000 1.500000,0.700000 1.333000,0.700000 1.167000,0.700000 1.000000,0.700000 0.833000,0.630000 0.667000,0.450000 0.500000,0.350000 0.333000,0.300000 0.167000,0.250000 0.000000,0.250000 z\" /><path class=\"layer_2_0\" d=\"M 2.000000,0.100000 2.281000,0.114000 2.559000,0.155000 2.832000,0.224000 3.096000,0.319000 3.314000,0.398000 3.539000,0.454000 3.768000,0.489000 4.000000,0.500000 4.000000,1.000000 3.719000,0.986000 3.441000,0.945000 3.168000,0.876000 2.904000,0.781000 2.686000,0.702000 2.461000,0.646000 2.232000,0.611000 2.000000,0.600000 z\" /><path class=\"layer_2_0\" d=\"M 2.000000,-0.600000 2.232000,-0.611000 2.461000,-0.646000 2.686000,-0.702000 2.904000,-0.781000 3.168000,-0.876000 3.441000,-0.945000 3.719000,-0.986000 4.000000,-1.000000 4.000000,-0.500000 3.768000,-0.489000 3.539000,-0.454000 3.314000,-0.398000 3.096000,-0.319000 2.832000,-0.224000 2.559000,-0.155000 2.281000,-0.114000 2.000000,-0.100000 z\" /></g></g></svg>"
      ],
      "text/plain": [
       "Component(name=\"Y_SPLITTER\", technology=Technology(name=\"Basic Technology\", version=\"1.1.7\", layers={\"WG_CLAD\": LayerSpec(layer=(1, 0), description=\"Waveguide clad\", color=\"#9da6a218\", pattern=\".\"), \"WG_CORE\": LayerSpec(layer=(2, 0), description=\"Waveguide core\", color=\"#6db5dd18\", pattern=\"/\"), \"SLAB\": LayerSpec(layer=(3, 0), description=\"Slab region\", color=\"#8851ad18\", pattern=\":\"), \"TRENCH\": LayerSpec(layer=(4, 0), description=\"Deep-etched trench for chip facets\", color=\"#535e5918\", pattern=\"+\"), \"METAL\": LayerSpec(layer=(5, 0), description=\"Metal layer\", color=\"#b8a18b18\", pattern=\"\\\")}, extrusion_specs=[ExtrusionSpec(mask_spec=MaskSpec((2, 0)), medium={\"optical\": cSi_Li1993_293K, \"electrical\": Medium(permittivity=12.3)}, limits=(0, 0.22), sidewall_angle=0, reference=\"top\"), ExtrusionSpec(mask_spec=MaskSpec((3, 0)), medium={\"optical\": cSi_Li1993_293K, \"electrical\": Medium(permittivity=12.3)}, limits=(0, 0.07), sidewall_angle=0, reference=\"top\"), ExtrusionSpec(mask_spec=MaskSpec((5, 0)), medium={\"optical\": Cu_JohnsonChristy1972, \"electrical\": PEC}, limits=(1.72, 2.22), sidewall_angle=0, reference=\"top\"), ExtrusionSpec(mask_spec=MaskSpec((4, 0)), medium={\"optical\": Medium(), \"electrical\": Medium()}, limits=(-2e+07, 2e+07), sidewall_angle=0, reference=\"top\")], ports={\"Strip\": PortSpec(description=\"Strip waveguide\", width=2.25, limits=(-1, 1.22), num_modes=1, added_solver_modes=0, polarization=\"\", target_neff=4, default_radius=0, path_profiles=[(0.5, 0, (2, 0)), (2.5, 0, (1, 0))]), \"Rib\": PortSpec(description=\"Rib waveguide\", width=2.16, limits=(-1, 1.22), num_modes=1, added_solver_modes=0, polarization=\"\", target_neff=4, default_radius=0, path_profiles=[(0.4, 0, (2, 0)), (2.4, 0, (3, 0)), (2.4, 0, (1, 0))]), \"CPW\": PortSpec(description=\"CPW transmission line\", width=26.0552, limits=(-9.05312, 12.9931), num_modes=1, added_solver_modes=1, polarization=\"\", target_neff=4, default_radius=0, path_profiles={\"signal\": (3.6, 0, (5, 0)), \"gnd0\": (8.9776, -8.7888, (5, 0)), \"gnd1\": (8.9776, 8.7888, (5, 0))}, voltage_path=[(4.3, 1.97), (1.8, 1.97)], current_path=[(3.05, 3.47), (-3.05, 3.47), (-3.05, 0.47), (3.05, 0.47)])}, connections={}, background_medium={\"optical\": SiO2_Palik_Lossless, \"electrical\": Medium(permittivity=4.2)}))"
      ]
     },
     "execution_count": 9,
     "metadata": {},
     "output_type": "execute_result"
    }
   ],
   "source": [
    "clad_width, _ = port_spec.path_profile_for(\"WG_CLAD\")\n",
    "core_width, _ = port_spec.path_profile_for(\"WG_CORE\")\n",
    "clad_margin = (clad_width - core_width) / 2\n",
    "\n",
    "s_offset = clad_width / 2 - clad_margin / 2 - y_out\n",
    "s_length = 5 * s_offset\n",
    "s_bend1 = pf.Path((length, y_out), core_width).s_bend((s_length, s_offset), relative=True)\n",
    "s_bend2 = pf.Path((length, -y_out), core_width).s_bend((s_length, -s_offset), relative=True)\n",
    "\n",
    "y_splitter = pf.Component(\"Y_SPLITTER\")\n",
    "y_splitter.add(\"WG_CORE\", y_polygon, s_bend1, s_bend2)"
   ]
  },
  {
   "cell_type": "code",
   "execution_count": 10,
   "id": "c74a5154",
   "metadata": {},
   "outputs": [
    {
     "data": {
      "image/svg+xml": [
       "<?xml version=\"1.0\" encoding=\"UTF-8\"?><svg xmlns=\"http://www.w3.org/2000/svg\" xmlns:xlink=\"http://www.w3.org/1999/xlink\" height=\"20.000000rem\" viewBox=\"-0.200100 -2.201100 4.400200 4.402200\"><style>path{fill:#a3b8d6;stroke:#908f8f;stroke-width:0.022011;}rect{fill:#a3b8d6;stroke:#908f8f;stroke-width:0.022011;}circle{fill:#a3b8d6;stroke:#908f8f;stroke-width:0.022011;}ellipse{fill:#a3b8d6;stroke:#908f8f;stroke-width:0.022011;}.reference{fill:none;stroke:#221f20;stroke-width:0.015408;}.label{transform:scale(1,-1);fill:#221f20;font-weight:bold;font-size:0.176088px;}.terminal{fill:none;stroke:#805080;stroke-width:0.022011;}.dashed{stroke-dasharray:0.110055,0.066033;}.port{fill:none;stroke:#805080;stroke-width:0.044022;}.virtual-connection{fill:none;stroke:#907090;stroke-width:0.033017;}.layer_1_0{stroke:#9da6a2;fill:#9da6a2;fill-opacity:0.094;}.label_1_0{fill:#9da6a2;}.layer_2_0{stroke:#6db5dd;fill:#6db5dd;fill-opacity:0.094;}.label_2_0{fill:#6db5dd;}.layer_3_0{stroke:#8851ad;fill:#8851ad;fill-opacity:0.094;}.label_3_0{fill:#8851ad;}.layer_4_0{stroke:#535e59;fill:#535e59;fill-opacity:0.094;}.label_4_0{fill:#535e59;}.layer_5_0{stroke:#b8a18b;fill:#b8a18b;fill-opacity:0.094;}.label_5_0{fill:#b8a18b;}</style><defs><path id=\"port-symbol\" class=\"port\" d=\"M 0,-0.088044 L 0.132066,0 0,0.088044\" /><path id=\"ref-port-symbol\" class=\"port\" style=\"stroke-opacity:0.33;\" d=\"M 0,-0.066033 C 0.088044,-0.066033 0.088044,0.066033 0,0.066033\" /><circle id=\"port-bend-symbol\" style=\"stroke-width:0;stroke:none;fill:#805080;\" cx=\"0\" cy=\"0\" r=\"0.039620\" /><circle id=\"connection-symbol\" style=\"stroke-width:0;stroke:none;fill:#907090;\" cx=\"0\" cy=\"0\" r=\"0.046223\" /></defs><g transform=\"scale(1 -1)\"><g id=\"C0\"><path class=\"layer_1_0\" d=\"M 3.642000,1.983000 0.749000,1.679000 0.432000,1.546000 0.000000,1.349000 0.000000,-1.349000 0.432000,-1.546000 0.749000,-1.679000 3.642000,-1.983000 4.000000,-2.001000 4.000000,2.001000 z\" /><path class=\"layer_2_0\" d=\"M 0.000000,-0.250000 0.167000,-0.250000 0.333000,-0.300000 0.500000,-0.350000 0.667000,-0.450000 0.833000,-0.630000 1.000000,-0.700000 1.167000,-0.700000 1.333000,-0.700000 1.500000,-0.700000 1.667000,-0.655000 1.833000,-0.600000 2.000000,-0.600000 2.000000,0.600000 1.833000,0.600000 1.667000,0.655000 1.500000,0.700000 1.333000,0.700000 1.167000,0.700000 1.000000,0.700000 0.833000,0.630000 0.667000,0.450000 0.500000,0.350000 0.333000,0.300000 0.167000,0.250000 0.000000,0.250000 z\" /><path class=\"layer_2_0\" d=\"M 2.000000,0.100000 2.281000,0.114000 2.559000,0.155000 2.832000,0.224000 3.096000,0.319000 3.314000,0.398000 3.539000,0.454000 3.768000,0.489000 4.000000,0.500000 4.000000,1.000000 3.719000,0.986000 3.441000,0.945000 3.168000,0.876000 2.904000,0.781000 2.686000,0.702000 2.461000,0.646000 2.232000,0.611000 2.000000,0.600000 z\" /><path class=\"layer_2_0\" d=\"M 2.000000,-0.600000 2.232000,-0.611000 2.461000,-0.646000 2.686000,-0.702000 2.904000,-0.781000 3.168000,-0.876000 3.441000,-0.945000 3.719000,-0.986000 4.000000,-1.000000 4.000000,-0.500000 3.768000,-0.489000 3.539000,-0.454000 3.314000,-0.398000 3.096000,-0.319000 2.832000,-0.224000 2.559000,-0.155000 2.281000,-0.114000 2.000000,-0.100000 z\" /></g></g></svg>"
      ],
      "text/plain": [
       "Component(name=\"Y_SPLITTER\", technology=Technology(name=\"Basic Technology\", version=\"1.1.7\", layers={\"WG_CLAD\": LayerSpec(layer=(1, 0), description=\"Waveguide clad\", color=\"#9da6a218\", pattern=\".\"), \"WG_CORE\": LayerSpec(layer=(2, 0), description=\"Waveguide core\", color=\"#6db5dd18\", pattern=\"/\"), \"SLAB\": LayerSpec(layer=(3, 0), description=\"Slab region\", color=\"#8851ad18\", pattern=\":\"), \"TRENCH\": LayerSpec(layer=(4, 0), description=\"Deep-etched trench for chip facets\", color=\"#535e5918\", pattern=\"+\"), \"METAL\": LayerSpec(layer=(5, 0), description=\"Metal layer\", color=\"#b8a18b18\", pattern=\"\\\")}, extrusion_specs=[ExtrusionSpec(mask_spec=MaskSpec((2, 0)), medium={\"optical\": cSi_Li1993_293K, \"electrical\": Medium(permittivity=12.3)}, limits=(0, 0.22), sidewall_angle=0, reference=\"top\"), ExtrusionSpec(mask_spec=MaskSpec((3, 0)), medium={\"optical\": cSi_Li1993_293K, \"electrical\": Medium(permittivity=12.3)}, limits=(0, 0.07), sidewall_angle=0, reference=\"top\"), ExtrusionSpec(mask_spec=MaskSpec((5, 0)), medium={\"optical\": Cu_JohnsonChristy1972, \"electrical\": PEC}, limits=(1.72, 2.22), sidewall_angle=0, reference=\"top\"), ExtrusionSpec(mask_spec=MaskSpec((4, 0)), medium={\"optical\": Medium(), \"electrical\": Medium()}, limits=(-2e+07, 2e+07), sidewall_angle=0, reference=\"top\")], ports={\"Strip\": PortSpec(description=\"Strip waveguide\", width=2.25, limits=(-1, 1.22), num_modes=1, added_solver_modes=0, polarization=\"\", target_neff=4, default_radius=0, path_profiles=[(0.5, 0, (2, 0)), (2.5, 0, (1, 0))]), \"Rib\": PortSpec(description=\"Rib waveguide\", width=2.16, limits=(-1, 1.22), num_modes=1, added_solver_modes=0, polarization=\"\", target_neff=4, default_radius=0, path_profiles=[(0.4, 0, (2, 0)), (2.4, 0, (3, 0)), (2.4, 0, (1, 0))]), \"CPW\": PortSpec(description=\"CPW transmission line\", width=26.0552, limits=(-9.05312, 12.9931), num_modes=1, added_solver_modes=1, polarization=\"\", target_neff=4, default_radius=0, path_profiles={\"signal\": (3.6, 0, (5, 0)), \"gnd0\": (8.9776, -8.7888, (5, 0)), \"gnd1\": (8.9776, 8.7888, (5, 0))}, voltage_path=[(4.3, 1.97), (1.8, 1.97)], current_path=[(3.05, 3.47), (-3.05, 3.47), (-3.05, 0.47), (3.05, 0.47)])}, connections={}, background_medium={\"optical\": SiO2_Palik_Lossless, \"electrical\": Medium(permittivity=4.2)}))"
      ]
     },
     "execution_count": 10,
     "metadata": {},
     "output_type": "execute_result"
    }
   ],
   "source": [
    "clad = pf.envelope(\n",
    "    y_splitter.get_structures(\"WG_CORE\"), clad_margin, trim_x_min=True, trim_x_max=True\n",
    ")\n",
    "y_splitter.add(\"WG_CLAD\", clad)"
   ]
  },
  {
   "cell_type": "code",
   "execution_count": 11,
   "id": "69447a7e",
   "metadata": {},
   "outputs": [
    {
     "data": {
      "text/plain": [
       "[Port(center=(0, 0), input_direction=0, spec=PortSpec(description=\"Strip waveguide\", width=2.25, limits=(-1, 1.22), num_modes=1, added_solver_modes=0, polarization=\"\", target_neff=4, default_radius=0, path_profiles=[(0.5, 0, (2, 0)), (2.5, 0, (1, 0))]), extended=True, inverted=False, bend_radius=0),\n",
       " Port(center=(4, -0.75), input_direction=180, spec=PortSpec(description=\"Strip waveguide\", width=2.25, limits=(-1, 1.22), num_modes=1, added_solver_modes=0, polarization=\"\", target_neff=4, default_radius=0, path_profiles=[(0.5, 0, (2, 0)), (2.5, 0, (1, 0))]), extended=True, inverted=False, bend_radius=0),\n",
       " Port(center=(4, 0.75), input_direction=180, spec=PortSpec(description=\"Strip waveguide\", width=2.25, limits=(-1, 1.22), num_modes=1, added_solver_modes=0, polarization=\"\", target_neff=4, default_radius=0, path_profiles=[(0.5, 0, (2, 0)), (2.5, 0, (1, 0))]), extended=True, inverted=False, bend_radius=0)]"
      ]
     },
     "execution_count": 11,
     "metadata": {},
     "output_type": "execute_result"
    }
   ],
   "source": [
    "candidates = y_splitter.detect_ports([\"Strip\"])\n",
    "candidates"
   ]
  },
  {
   "cell_type": "code",
   "execution_count": 12,
   "id": "aa3f276d",
   "metadata": {},
   "outputs": [
    {
     "data": {
      "image/svg+xml": [
       "<?xml version=\"1.0\" encoding=\"UTF-8\"?><svg xmlns=\"http://www.w3.org/2000/svg\" xmlns:xlink=\"http://www.w3.org/1999/xlink\" height=\"20.000000rem\" viewBox=\"-0.200100 -2.201100 4.400200 4.402200\"><style>path{fill:#a3b8d6;stroke:#908f8f;stroke-width:0.022011;}rect{fill:#a3b8d6;stroke:#908f8f;stroke-width:0.022011;}circle{fill:#a3b8d6;stroke:#908f8f;stroke-width:0.022011;}ellipse{fill:#a3b8d6;stroke:#908f8f;stroke-width:0.022011;}.reference{fill:none;stroke:#221f20;stroke-width:0.015408;}.label{transform:scale(1,-1);fill:#221f20;font-weight:bold;font-size:0.176088px;}.terminal{fill:none;stroke:#805080;stroke-width:0.022011;}.dashed{stroke-dasharray:0.110055,0.066033;}.port{fill:none;stroke:#805080;stroke-width:0.044022;}.virtual-connection{fill:none;stroke:#907090;stroke-width:0.033017;}.layer_1_0{stroke:#9da6a2;fill:#9da6a2;fill-opacity:0.094;}.label_1_0{fill:#9da6a2;}.layer_2_0{stroke:#6db5dd;fill:#6db5dd;fill-opacity:0.094;}.label_2_0{fill:#6db5dd;}.layer_3_0{stroke:#8851ad;fill:#8851ad;fill-opacity:0.094;}.label_3_0{fill:#8851ad;}.layer_4_0{stroke:#535e59;fill:#535e59;fill-opacity:0.094;}.label_4_0{fill:#535e59;}.layer_5_0{stroke:#b8a18b;fill:#b8a18b;fill-opacity:0.094;}.label_5_0{fill:#b8a18b;}</style><defs><path id=\"port-symbol\" class=\"port\" d=\"M 0,-0.088044 L 0.132066,0 0,0.088044\" /><path id=\"ref-port-symbol\" class=\"port\" style=\"stroke-opacity:0.33;\" d=\"M 0,-0.066033 C 0.088044,-0.066033 0.088044,0.066033 0,0.066033\" /><circle id=\"port-bend-symbol\" style=\"stroke-width:0;stroke:none;fill:#805080;\" cx=\"0\" cy=\"0\" r=\"0.039620\" /><circle id=\"connection-symbol\" style=\"stroke-width:0;stroke:none;fill:#907090;\" cx=\"0\" cy=\"0\" r=\"0.046223\" /></defs><g transform=\"scale(1 -1)\"><g id=\"C0\"><path class=\"layer_1_0\" d=\"M 3.642000,1.983000 0.749000,1.679000 0.432000,1.546000 0.000000,1.349000 0.000000,-1.349000 0.432000,-1.546000 0.749000,-1.679000 3.642000,-1.983000 4.000000,-2.001000 4.000000,2.001000 z\" /><path class=\"layer_2_0\" d=\"M 0.000000,-0.250000 0.167000,-0.250000 0.333000,-0.300000 0.500000,-0.350000 0.667000,-0.450000 0.833000,-0.630000 1.000000,-0.700000 1.167000,-0.700000 1.333000,-0.700000 1.500000,-0.700000 1.667000,-0.655000 1.833000,-0.600000 2.000000,-0.600000 2.000000,0.600000 1.833000,0.600000 1.667000,0.655000 1.500000,0.700000 1.333000,0.700000 1.167000,0.700000 1.000000,0.700000 0.833000,0.630000 0.667000,0.450000 0.500000,0.350000 0.333000,0.300000 0.167000,0.250000 0.000000,0.250000 z\" /><path class=\"layer_2_0\" d=\"M 2.000000,0.100000 2.281000,0.114000 2.559000,0.155000 2.832000,0.224000 3.096000,0.319000 3.314000,0.398000 3.539000,0.454000 3.768000,0.489000 4.000000,0.500000 4.000000,1.000000 3.719000,0.986000 3.441000,0.945000 3.168000,0.876000 2.904000,0.781000 2.686000,0.702000 2.461000,0.646000 2.232000,0.611000 2.000000,0.600000 z\" /><path class=\"layer_2_0\" d=\"M 2.000000,-0.600000 2.232000,-0.611000 2.461000,-0.646000 2.686000,-0.702000 2.904000,-0.781000 3.168000,-0.876000 3.441000,-0.945000 3.719000,-0.986000 4.000000,-1.000000 4.000000,-0.500000 3.768000,-0.489000 3.539000,-0.454000 3.314000,-0.398000 3.096000,-0.319000 2.832000,-0.224000 2.559000,-0.155000 2.281000,-0.114000 2.000000,-0.100000 z\" /><g transform=\"translate(0.000000 0.000000) rotate(0.000000)\"><path class=\"port\" d=\"M 0,-1.125000 V 1.125000\" /><use href=\"#port-symbol\" /></g><text class=\"label\" text-anchor=\"start\" dominant-baseline=\"text-after-edge\" x=\"0.000000\" y=\"-0.000000\">P0</text><g transform=\"translate(4.000000 -0.750000) rotate(180.000000)\"><path class=\"port\" d=\"M 0,-1.125000 V 1.125000\" /><use href=\"#port-symbol\" /></g><text class=\"label\" text-anchor=\"end\" dominant-baseline=\"text-before-edge\" x=\"4.000000\" y=\"0.750000\">P1</text><g transform=\"translate(4.000000 0.750000) rotate(180.000000)\"><path class=\"port\" d=\"M 0,-1.125000 V 1.125000\" /><use href=\"#port-symbol\" /></g><text class=\"label\" text-anchor=\"end\" dominant-baseline=\"text-before-edge\" x=\"4.000000\" y=\"-0.750000\">P2</text></g></g></svg>"
      ],
      "text/plain": [
       "Component(name=\"Y_SPLITTER\", technology=Technology(name=\"Basic Technology\", version=\"1.1.7\", layers={\"WG_CLAD\": LayerSpec(layer=(1, 0), description=\"Waveguide clad\", color=\"#9da6a218\", pattern=\".\"), \"WG_CORE\": LayerSpec(layer=(2, 0), description=\"Waveguide core\", color=\"#6db5dd18\", pattern=\"/\"), \"SLAB\": LayerSpec(layer=(3, 0), description=\"Slab region\", color=\"#8851ad18\", pattern=\":\"), \"TRENCH\": LayerSpec(layer=(4, 0), description=\"Deep-etched trench for chip facets\", color=\"#535e5918\", pattern=\"+\"), \"METAL\": LayerSpec(layer=(5, 0), description=\"Metal layer\", color=\"#b8a18b18\", pattern=\"\\\")}, extrusion_specs=[ExtrusionSpec(mask_spec=MaskSpec((2, 0)), medium={\"optical\": cSi_Li1993_293K, \"electrical\": Medium(permittivity=12.3)}, limits=(0, 0.22), sidewall_angle=0, reference=\"top\"), ExtrusionSpec(mask_spec=MaskSpec((3, 0)), medium={\"optical\": cSi_Li1993_293K, \"electrical\": Medium(permittivity=12.3)}, limits=(0, 0.07), sidewall_angle=0, reference=\"top\"), ExtrusionSpec(mask_spec=MaskSpec((5, 0)), medium={\"optical\": Cu_JohnsonChristy1972, \"electrical\": PEC}, limits=(1.72, 2.22), sidewall_angle=0, reference=\"top\"), ExtrusionSpec(mask_spec=MaskSpec((4, 0)), medium={\"optical\": Medium(), \"electrical\": Medium()}, limits=(-2e+07, 2e+07), sidewall_angle=0, reference=\"top\")], ports={\"Strip\": PortSpec(description=\"Strip waveguide\", width=2.25, limits=(-1, 1.22), num_modes=1, added_solver_modes=0, polarization=\"\", target_neff=4, default_radius=0, path_profiles=[(0.5, 0, (2, 0)), (2.5, 0, (1, 0))]), \"Rib\": PortSpec(description=\"Rib waveguide\", width=2.16, limits=(-1, 1.22), num_modes=1, added_solver_modes=0, polarization=\"\", target_neff=4, default_radius=0, path_profiles=[(0.4, 0, (2, 0)), (2.4, 0, (3, 0)), (2.4, 0, (1, 0))]), \"CPW\": PortSpec(description=\"CPW transmission line\", width=26.0552, limits=(-9.05312, 12.9931), num_modes=1, added_solver_modes=1, polarization=\"\", target_neff=4, default_radius=0, path_profiles={\"signal\": (3.6, 0, (5, 0)), \"gnd0\": (8.9776, -8.7888, (5, 0)), \"gnd1\": (8.9776, 8.7888, (5, 0))}, voltage_path=[(4.3, 1.97), (1.8, 1.97)], current_path=[(3.05, 3.47), (-3.05, 3.47), (-3.05, 0.47), (3.05, 0.47)])}, connections={}, background_medium={\"optical\": SiO2_Palik_Lossless, \"electrical\": Medium(permittivity=4.2)}))"
      ]
     },
     "execution_count": 12,
     "metadata": {},
     "output_type": "execute_result"
    }
   ],
   "source": [
    "y_splitter.add_port(candidates)\n",
    "y_splitter\n",
    "viewer(y_splitter)"
   ]
  },
  {
   "cell_type": "code",
   "execution_count": null,
   "id": "7d805292",
   "metadata": {},
   "outputs": [],
   "source": [
    "tidy3d_model = pf.Tidy3DModel(port_symmetries=[(\"P0\", \"P2\", \"P1\")])\n",
    "y_splitter.add_model(tidy3d_model, \"Tidy3D\")\n",
    "\n",
    "y_splitter.active_model"
   ]
  },
  {
   "cell_type": "code",
   "execution_count": null,
   "id": "4dfb2bc4",
   "metadata": {},
   "outputs": [],
   "source": [
    "lda = np.linspace(1.5, 1.6, 11)\n",
    "freqs = pf.C_0 / lda\n",
    "\n",
    "s_matrix = y_splitter.s_matrix(freqs)"
   ]
  },
  {
   "cell_type": "code",
   "execution_count": null,
   "id": "219fc7fe",
   "metadata": {},
   "outputs": [],
   "source": [
    "print(s_matrix.elements.keys())"
   ]
  },
  {
   "cell_type": "code",
   "execution_count": null,
   "id": "17cc08fe",
   "metadata": {},
   "outputs": [],
   "source": [
    "s_matrix[(\"P0@0\", \"P1@0\")]"
   ]
  },
  {
   "cell_type": "code",
   "execution_count": null,
   "id": "2919c613",
   "metadata": {},
   "outputs": [],
   "source": [
    "fig, ax = pf.plot_s_matrix(s_matrix, input_ports=[\"P0\", \"P1\"])"
   ]
  }
 ],
 "metadata": {
  "kernelspec": {
   "display_name": "Python 3",
   "language": "python",
   "name": "python3"
  },
  "language_info": {
   "codemirror_mode": {
    "name": "ipython",
    "version": 3
   },
   "file_extension": ".py",
   "mimetype": "text/x-python",
   "name": "python",
   "nbconvert_exporter": "python",
   "pygments_lexer": "ipython3",
   "version": "3.13.7"
  }
 },
 "nbformat": 4,
 "nbformat_minor": 5
}
