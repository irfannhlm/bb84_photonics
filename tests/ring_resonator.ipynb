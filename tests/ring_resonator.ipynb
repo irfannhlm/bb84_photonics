{
 "cells": [
  {
   "cell_type": "code",
   "execution_count": 1,
   "id": "e2407001",
   "metadata": {},
   "outputs": [],
   "source": [
    "import numpy as np\n",
    "import matplotlib.pyplot as plt\n",
    "import photonforge as pf\n",
    "import siepic_forge as siepic\n",
    "import luxtelligence_lnoi400_forge as lxt\n",
    "\n",
    "siepic_tech = siepic.ebeam()\n",
    "basic_tech = pf.basic_technology()\n",
    "\n",
    "pf.config.default_technology = siepic_tech"
   ]
  },
  {
   "cell_type": "code",
   "execution_count": 11,
   "id": "bcf41e2e",
   "metadata": {},
   "outputs": [
    {
     "data": {
      "text/plain": [
       "{'Tidy3D': Tidy3DModel(run_time=None, medium=None, symmetry=(0, 0, 0), boundary_spec=None, monitors=(), structures=(), grid_spec=None, shutoff=None, subpixel=None, courant=None, port_symmetries=(), bounds=((None, None, None), (None, None, None)), source_gap=None, simulation_updates={}, verbose=True)}"
      ]
     },
     "execution_count": 11,
     "metadata": {},
     "output_type": "execute_result"
    }
   ],
   "source": [
    "ring_coupler = pf.parametric.ring_coupler(port_spec=\"Rib_TE_1550_500\", coupling_distance=0.2, radius=5)\n",
    "ring_coupler.models"
   ]
  },
  {
   "cell_type": "code",
   "execution_count": null,
   "id": "4dd328c5",
   "metadata": {},
   "outputs": [
    {
     "name": "stderr",
     "output_type": "stream",
     "text": [
      "c:\\Users\\irfan\\AppData\\Local\\Programs\\Python\\Python313\\Lib\\site-packages\\photonforge\\parametric_utils.py:206: RuntimeWarning: Component function '__main__.parametric_ring_resonator' previously registered will be overwritten.\n",
      "  return _decorator(decorated_function)\n"
     ]
    }
   ],
   "source": [
    "@pf.parametric_component\n",
    "def parametric_ring_resonator(*, port_spec, coupling_distance=0.3, radius=5, bus_length=5):\n",
    "    if isinstance(port_spec, str):\n",
    "        port_spec = pf.config.default_technology.ports[port_spec]\n",
    "\n",
    "    ring_coupler = pf.parametric.ring_coupler(\n",
    "        port_spec=port_spec, \n",
    "        coupling_distance=coupling_distance, \n",
    "        radius=radius, \n",
    "        bus_length=bus_length\n",
    "    )\n",
    "\n",
    "    ring_resonator = pf.Component(\"ring_resonator\")\n",
    "    \n",
    "    bottom_coupler_ref = ring_resonator.add_reference(ring_coupler)\n",
    "    top_coupler_ref = ring_resonator.add_reference(ring_coupler)\n",
    "    \n",
    "    bottom_coupler_ref.connect(\"P1\", top_coupler_ref[\"P3\"])\n",
    "    bottom_coupler_ref.connect(\"P3\", top_coupler_ref[\"P1\"])\n",
    "\n",
    "    ring_resonator.add_port(ring_resonator.detect_ports([port_spec]))\n",
    "    ring_resonator.add_model(pf.CircuitModel(), \"Circuit\")\n",
    "\n",
    "    return ring_resonator"
   ]
  },
  {
   "cell_type": "code",
   "execution_count": 4,
   "id": "f1de50ef",
   "metadata": {},
   "outputs": [],
   "source": [
    "# ring_resonator = parametric_ring_resonator(port_spec=\"Rib_TE_1550_500\", coupling_distance=0.7)\n",
    "# ring_resonator.models"
   ]
  },
  {
   "cell_type": "code",
   "execution_count": null,
   "id": "dff1c233",
   "metadata": {},
   "outputs": [
    {
     "name": "stdout",
     "output_type": "stream",
     "text": [
      "Loading cached simulation from C:\\Users\\irfan\\.tidy3d\\pf_cache\\I2F\\ms_info-HVQXIL54RFULU5KYRRSGYHCGIE7DFMVPNP2IXO2EQWNTKHQI5GSA.json.\n",
      "Loading cached simulation from C:\\Users\\irfan\\.tidy3d\\pf_cache\\X2O\\ms_info-5K3MCUETNAYZ4MB7YRBER4APRJPZ53QC7OQPFVIAVWSCHTTBJ3TA.json.\n",
      "Loading cached simulation from C:\\Users\\irfan\\.tidy3d\\pf_cache\\5W2\\ms_info-ZPZWPVF5J7DIULJ3PUK7ZYSLN4EC7QAEIFVFWSN5HUIFHHCU6GUA.json.\n",
      "Loading cached simulation from C:\\Users\\irfan\\.tidy3d\\pf_cache\\WJC\\ms_info-WUYJON35O6EESZGORLQ5PI5JANFO6PW34PRQZLM5MNBWICNM2NIQ.json.\n"
     ]
    },
    {
     "data": {
      "text/html": [
       "<pre style=\"white-space:pre;overflow-x:auto;line-height:normal;font-family:Menlo,'DejaVu Sans Mono',consolas,'Courier New',monospace\"><span style=\"color: #7fbfbf; text-decoration-color: #7fbfbf\">12:35:01 SE Asia Standard Time </span><span style=\"color: #800000; text-decoration-color: #800000\">WARNING: Structure at </span><span style=\"color: #008000; text-decoration-color: #008000\">'structures[0]'</span><span style=\"color: #800000; text-decoration-color: #800000\"> has bounds </span>\n",
       "<span style=\"color: #7fbfbf; text-decoration-color: #7fbfbf\">                               </span><span style=\"color: #800000; text-decoration-color: #800000\">that extend exactly to simulation edges. This can</span>\n",
       "<span style=\"color: #7fbfbf; text-decoration-color: #7fbfbf\">                               </span><span style=\"color: #800000; text-decoration-color: #800000\">cause unexpected behavior. If intending to extend</span>\n",
       "<span style=\"color: #7fbfbf; text-decoration-color: #7fbfbf\">                               </span><span style=\"color: #800000; text-decoration-color: #800000\">the structure to infinity along one dimension,   </span>\n",
       "<span style=\"color: #7fbfbf; text-decoration-color: #7fbfbf\">                               </span><span style=\"color: #800000; text-decoration-color: #800000\">use td.inf as a size variable instead to make    </span>\n",
       "<span style=\"color: #7fbfbf; text-decoration-color: #7fbfbf\">                               </span><span style=\"color: #800000; text-decoration-color: #800000\">this explicit.                                   </span>\n",
       "</pre>\n"
      ],
      "text/plain": [
       "\u001b[2;36m12:35:01 SE Asia Standard Time\u001b[0m\u001b[2;36m \u001b[0m\u001b[31mWARNING: Structure at \u001b[0m\u001b[32m'structures\u001b[0m\u001b[32m[\u001b[0m\u001b[32m0\u001b[0m\u001b[32m]\u001b[0m\u001b[32m'\u001b[0m\u001b[31m has bounds \u001b[0m\n",
       "\u001b[2;36m                               \u001b[0m\u001b[31mthat extend exactly to simulation edges. This can\u001b[0m\n",
       "\u001b[2;36m                               \u001b[0m\u001b[31mcause unexpected behavior. If intending to extend\u001b[0m\n",
       "\u001b[2;36m                               \u001b[0m\u001b[31mthe structure to infinity along one dimension,   \u001b[0m\n",
       "\u001b[2;36m                               \u001b[0m\u001b[31muse td.inf as a size variable instead to make    \u001b[0m\n",
       "\u001b[2;36m                               \u001b[0m\u001b[31mthis explicit.                                   \u001b[0m\n"
      ]
     },
     "metadata": {},
     "output_type": "display_data"
    },
    {
     "data": {
      "text/html": [
       "<pre style=\"white-space:pre;overflow-x:auto;line-height:normal;font-family:Menlo,'DejaVu Sans Mono',consolas,'Courier New',monospace\"><span style=\"color: #7fbfbf; text-decoration-color: #7fbfbf\">                               </span><span style=\"color: #800000; text-decoration-color: #800000\">WARNING: Suppressed </span><span style=\"color: #008080; text-decoration-color: #008080; font-weight: bold\">2</span><span style=\"color: #800000; text-decoration-color: #800000\"> WARNING messages.          </span>\n",
       "</pre>\n"
      ],
      "text/plain": [
       "\u001b[2;36m                              \u001b[0m\u001b[2;36m \u001b[0m\u001b[31mWARNING: Suppressed \u001b[0m\u001b[1;36m2\u001b[0m\u001b[31m WARNING messages.          \u001b[0m\n"
      ]
     },
     "metadata": {},
     "output_type": "display_data"
    },
    {
     "data": {
      "text/html": [
       "<pre style=\"white-space:pre;overflow-x:auto;line-height:normal;font-family:Menlo,'DejaVu Sans Mono',consolas,'Courier New',monospace\"><span style=\"color: #7fbfbf; text-decoration-color: #7fbfbf\">                               </span><span style=\"color: #800000; text-decoration-color: #800000\">WARNING: Structure at </span><span style=\"color: #008000; text-decoration-color: #008000\">'structures[0]'</span><span style=\"color: #800000; text-decoration-color: #800000\"> has bounds </span>\n",
       "<span style=\"color: #7fbfbf; text-decoration-color: #7fbfbf\">                               </span><span style=\"color: #800000; text-decoration-color: #800000\">that extend exactly to simulation edges. This can</span>\n",
       "<span style=\"color: #7fbfbf; text-decoration-color: #7fbfbf\">                               </span><span style=\"color: #800000; text-decoration-color: #800000\">cause unexpected behavior. If intending to extend</span>\n",
       "<span style=\"color: #7fbfbf; text-decoration-color: #7fbfbf\">                               </span><span style=\"color: #800000; text-decoration-color: #800000\">the structure to infinity along one dimension,   </span>\n",
       "<span style=\"color: #7fbfbf; text-decoration-color: #7fbfbf\">                               </span><span style=\"color: #800000; text-decoration-color: #800000\">use td.inf as a size variable instead to make    </span>\n",
       "<span style=\"color: #7fbfbf; text-decoration-color: #7fbfbf\">                               </span><span style=\"color: #800000; text-decoration-color: #800000\">this explicit.                                   </span>\n",
       "</pre>\n"
      ],
      "text/plain": [
       "\u001b[2;36m                              \u001b[0m\u001b[2;36m \u001b[0m\u001b[31mWARNING: Structure at \u001b[0m\u001b[32m'structures\u001b[0m\u001b[32m[\u001b[0m\u001b[32m0\u001b[0m\u001b[32m]\u001b[0m\u001b[32m'\u001b[0m\u001b[31m has bounds \u001b[0m\n",
       "\u001b[2;36m                               \u001b[0m\u001b[31mthat extend exactly to simulation edges. This can\u001b[0m\n",
       "\u001b[2;36m                               \u001b[0m\u001b[31mcause unexpected behavior. If intending to extend\u001b[0m\n",
       "\u001b[2;36m                               \u001b[0m\u001b[31mthe structure to infinity along one dimension,   \u001b[0m\n",
       "\u001b[2;36m                               \u001b[0m\u001b[31muse td.inf as a size variable instead to make    \u001b[0m\n",
       "\u001b[2;36m                               \u001b[0m\u001b[31mthis explicit.                                   \u001b[0m\n"
      ]
     },
     "metadata": {},
     "output_type": "display_data"
    },
    {
     "data": {
      "text/html": [
       "<pre style=\"white-space:pre;overflow-x:auto;line-height:normal;font-family:Menlo,'DejaVu Sans Mono',consolas,'Courier New',monospace\"><span style=\"color: #7fbfbf; text-decoration-color: #7fbfbf\">                               </span><span style=\"color: #800000; text-decoration-color: #800000\">WARNING: Suppressed </span><span style=\"color: #008080; text-decoration-color: #008080; font-weight: bold\">2</span><span style=\"color: #800000; text-decoration-color: #800000\"> WARNING messages.          </span>\n",
       "</pre>\n"
      ],
      "text/plain": [
       "\u001b[2;36m                              \u001b[0m\u001b[2;36m \u001b[0m\u001b[31mWARNING: Suppressed \u001b[0m\u001b[1;36m2\u001b[0m\u001b[31m WARNING messages.          \u001b[0m\n"
      ]
     },
     "metadata": {},
     "output_type": "display_data"
    },
    {
     "data": {
      "text/html": [
       "<pre style=\"white-space:pre;overflow-x:auto;line-height:normal;font-family:Menlo,'DejaVu Sans Mono',consolas,'Courier New',monospace\"><span style=\"color: #7fbfbf; text-decoration-color: #7fbfbf\">                               </span><span style=\"color: #800000; text-decoration-color: #800000\">WARNING: Structure at </span><span style=\"color: #008000; text-decoration-color: #008000\">'structures[0]'</span><span style=\"color: #800000; text-decoration-color: #800000\"> has bounds </span>\n",
       "<span style=\"color: #7fbfbf; text-decoration-color: #7fbfbf\">                               </span><span style=\"color: #800000; text-decoration-color: #800000\">that extend exactly to simulation edges. This can</span>\n",
       "<span style=\"color: #7fbfbf; text-decoration-color: #7fbfbf\">                               </span><span style=\"color: #800000; text-decoration-color: #800000\">cause unexpected behavior. If intending to extend</span>\n",
       "<span style=\"color: #7fbfbf; text-decoration-color: #7fbfbf\">                               </span><span style=\"color: #800000; text-decoration-color: #800000\">the structure to infinity along one dimension,   </span>\n",
       "<span style=\"color: #7fbfbf; text-decoration-color: #7fbfbf\">                               </span><span style=\"color: #800000; text-decoration-color: #800000\">use td.inf as a size variable instead to make    </span>\n",
       "<span style=\"color: #7fbfbf; text-decoration-color: #7fbfbf\">                               </span><span style=\"color: #800000; text-decoration-color: #800000\">this explicit.                                   </span>\n",
       "</pre>\n"
      ],
      "text/plain": [
       "\u001b[2;36m                              \u001b[0m\u001b[2;36m \u001b[0m\u001b[31mWARNING: Structure at \u001b[0m\u001b[32m'structures\u001b[0m\u001b[32m[\u001b[0m\u001b[32m0\u001b[0m\u001b[32m]\u001b[0m\u001b[32m'\u001b[0m\u001b[31m has bounds \u001b[0m\n",
       "\u001b[2;36m                               \u001b[0m\u001b[31mthat extend exactly to simulation edges. This can\u001b[0m\n",
       "\u001b[2;36m                               \u001b[0m\u001b[31mcause unexpected behavior. If intending to extend\u001b[0m\n",
       "\u001b[2;36m                               \u001b[0m\u001b[31mthe structure to infinity along one dimension,   \u001b[0m\n",
       "\u001b[2;36m                               \u001b[0m\u001b[31muse td.inf as a size variable instead to make    \u001b[0m\n",
       "\u001b[2;36m                               \u001b[0m\u001b[31mthis explicit.                                   \u001b[0m\n"
      ]
     },
     "metadata": {},
     "output_type": "display_data"
    },
    {
     "data": {
      "text/html": [
       "<pre style=\"white-space:pre;overflow-x:auto;line-height:normal;font-family:Menlo,'DejaVu Sans Mono',consolas,'Courier New',monospace\"><span style=\"color: #7fbfbf; text-decoration-color: #7fbfbf\">                               </span><span style=\"color: #800000; text-decoration-color: #800000\">WARNING: Suppressed </span><span style=\"color: #008080; text-decoration-color: #008080; font-weight: bold\">2</span><span style=\"color: #800000; text-decoration-color: #800000\"> WARNING messages.          </span>\n",
       "</pre>\n"
      ],
      "text/plain": [
       "\u001b[2;36m                              \u001b[0m\u001b[2;36m \u001b[0m\u001b[31mWARNING: Suppressed \u001b[0m\u001b[1;36m2\u001b[0m\u001b[31m WARNING messages.          \u001b[0m\n"
      ]
     },
     "metadata": {},
     "output_type": "display_data"
    },
    {
     "data": {
      "text/html": [
       "<pre style=\"white-space:pre;overflow-x:auto;line-height:normal;font-family:Menlo,'DejaVu Sans Mono',consolas,'Courier New',monospace\"><span style=\"color: #7fbfbf; text-decoration-color: #7fbfbf\">                               </span><span style=\"color: #800000; text-decoration-color: #800000\">WARNING: Structure at </span><span style=\"color: #008000; text-decoration-color: #008000\">'structures[0]'</span><span style=\"color: #800000; text-decoration-color: #800000\"> has bounds </span>\n",
       "<span style=\"color: #7fbfbf; text-decoration-color: #7fbfbf\">                               </span><span style=\"color: #800000; text-decoration-color: #800000\">that extend exactly to simulation edges. This can</span>\n",
       "<span style=\"color: #7fbfbf; text-decoration-color: #7fbfbf\">                               </span><span style=\"color: #800000; text-decoration-color: #800000\">cause unexpected behavior. If intending to extend</span>\n",
       "<span style=\"color: #7fbfbf; text-decoration-color: #7fbfbf\">                               </span><span style=\"color: #800000; text-decoration-color: #800000\">the structure to infinity along one dimension,   </span>\n",
       "<span style=\"color: #7fbfbf; text-decoration-color: #7fbfbf\">                               </span><span style=\"color: #800000; text-decoration-color: #800000\">use td.inf as a size variable instead to make    </span>\n",
       "<span style=\"color: #7fbfbf; text-decoration-color: #7fbfbf\">                               </span><span style=\"color: #800000; text-decoration-color: #800000\">this explicit.                                   </span>\n",
       "</pre>\n"
      ],
      "text/plain": [
       "\u001b[2;36m                              \u001b[0m\u001b[2;36m \u001b[0m\u001b[31mWARNING: Structure at \u001b[0m\u001b[32m'structures\u001b[0m\u001b[32m[\u001b[0m\u001b[32m0\u001b[0m\u001b[32m]\u001b[0m\u001b[32m'\u001b[0m\u001b[31m has bounds \u001b[0m\n",
       "\u001b[2;36m                               \u001b[0m\u001b[31mthat extend exactly to simulation edges. This can\u001b[0m\n",
       "\u001b[2;36m                               \u001b[0m\u001b[31mcause unexpected behavior. If intending to extend\u001b[0m\n",
       "\u001b[2;36m                               \u001b[0m\u001b[31mthe structure to infinity along one dimension,   \u001b[0m\n",
       "\u001b[2;36m                               \u001b[0m\u001b[31muse td.inf as a size variable instead to make    \u001b[0m\n",
       "\u001b[2;36m                               \u001b[0m\u001b[31mthis explicit.                                   \u001b[0m\n"
      ]
     },
     "metadata": {},
     "output_type": "display_data"
    },
    {
     "data": {
      "text/html": [
       "<pre style=\"white-space:pre;overflow-x:auto;line-height:normal;font-family:Menlo,'DejaVu Sans Mono',consolas,'Courier New',monospace\"><span style=\"color: #7fbfbf; text-decoration-color: #7fbfbf\">                               </span><span style=\"color: #800000; text-decoration-color: #800000\">WARNING: Suppressed </span><span style=\"color: #008080; text-decoration-color: #008080; font-weight: bold\">2</span><span style=\"color: #800000; text-decoration-color: #800000\"> WARNING messages.          </span>\n",
       "</pre>\n"
      ],
      "text/plain": [
       "\u001b[2;36m                              \u001b[0m\u001b[2;36m \u001b[0m\u001b[31mWARNING: Suppressed \u001b[0m\u001b[1;36m2\u001b[0m\u001b[31m WARNING messages.          \u001b[0m\n"
      ]
     },
     "metadata": {},
     "output_type": "display_data"
    },
    {
     "name": "stdout",
     "output_type": "stream",
     "text": [
      "Loading cached simulation from C:\\Users\\irfan\\.tidy3d\\pf_cache\\ZI3\\fdtd_info-SZBSTZ5TOCHZO6SW3MPWGIZURTBHRQUDHS53ABXPBQDHM7YHAI7A.json.\n"
     ]
    },
    {
     "data": {
      "text/html": [
       "<pre style=\"white-space:pre;overflow-x:auto;line-height:normal;font-family:Menlo,'DejaVu Sans Mono',consolas,'Courier New',monospace\"><span style=\"color: #7fbfbf; text-decoration-color: #7fbfbf\">                               </span><span style=\"color: #800000; text-decoration-color: #800000\">WARNING: Structure at </span><span style=\"color: #008000; text-decoration-color: #008000\">'structures[0]'</span><span style=\"color: #800000; text-decoration-color: #800000\"> has bounds </span>\n",
       "<span style=\"color: #7fbfbf; text-decoration-color: #7fbfbf\">                               </span><span style=\"color: #800000; text-decoration-color: #800000\">that extend exactly to simulation edges. This can</span>\n",
       "<span style=\"color: #7fbfbf; text-decoration-color: #7fbfbf\">                               </span><span style=\"color: #800000; text-decoration-color: #800000\">cause unexpected behavior. If intending to extend</span>\n",
       "<span style=\"color: #7fbfbf; text-decoration-color: #7fbfbf\">                               </span><span style=\"color: #800000; text-decoration-color: #800000\">the structure to infinity along one dimension,   </span>\n",
       "<span style=\"color: #7fbfbf; text-decoration-color: #7fbfbf\">                               </span><span style=\"color: #800000; text-decoration-color: #800000\">use td.inf as a size variable instead to make    </span>\n",
       "<span style=\"color: #7fbfbf; text-decoration-color: #7fbfbf\">                               </span><span style=\"color: #800000; text-decoration-color: #800000\">this explicit.                                   </span>\n",
       "</pre>\n"
      ],
      "text/plain": [
       "\u001b[2;36m                              \u001b[0m\u001b[2;36m \u001b[0m\u001b[31mWARNING: Structure at \u001b[0m\u001b[32m'structures\u001b[0m\u001b[32m[\u001b[0m\u001b[32m0\u001b[0m\u001b[32m]\u001b[0m\u001b[32m'\u001b[0m\u001b[31m has bounds \u001b[0m\n",
       "\u001b[2;36m                               \u001b[0m\u001b[31mthat extend exactly to simulation edges. This can\u001b[0m\n",
       "\u001b[2;36m                               \u001b[0m\u001b[31mcause unexpected behavior. If intending to extend\u001b[0m\n",
       "\u001b[2;36m                               \u001b[0m\u001b[31mthe structure to infinity along one dimension,   \u001b[0m\n",
       "\u001b[2;36m                               \u001b[0m\u001b[31muse td.inf as a size variable instead to make    \u001b[0m\n",
       "\u001b[2;36m                               \u001b[0m\u001b[31mthis explicit.                                   \u001b[0m\n"
      ]
     },
     "metadata": {},
     "output_type": "display_data"
    },
    {
     "data": {
      "text/html": [
       "<pre style=\"white-space:pre;overflow-x:auto;line-height:normal;font-family:Menlo,'DejaVu Sans Mono',consolas,'Courier New',monospace\"><span style=\"color: #7fbfbf; text-decoration-color: #7fbfbf\">12:35:02 SE Asia Standard Time </span><span style=\"color: #800000; text-decoration-color: #800000\">WARNING: Suppressed </span><span style=\"color: #008080; text-decoration-color: #008080; font-weight: bold\">2</span><span style=\"color: #800000; text-decoration-color: #800000\"> WARNING messages.          </span>\n",
       "</pre>\n"
      ],
      "text/plain": [
       "\u001b[2;36m12:35:02 SE Asia Standard Time\u001b[0m\u001b[2;36m \u001b[0m\u001b[31mWARNING: Suppressed \u001b[0m\u001b[1;36m2\u001b[0m\u001b[31m WARNING messages.          \u001b[0m\n"
      ]
     },
     "metadata": {},
     "output_type": "display_data"
    },
    {
     "name": "stdout",
     "output_type": "stream",
     "text": [
      "Loading cached simulation from C:\\Users\\irfan\\.tidy3d\\pf_cache\\ZI3\\fdtd_info-OHXA2LKH3L6W4EQBLJMXOP7WV46B522KZRCER2EKV4TYXDTYGRCQ.json.\n"
     ]
    },
    {
     "data": {
      "text/html": [
       "<pre style=\"white-space:pre;overflow-x:auto;line-height:normal;font-family:Menlo,'DejaVu Sans Mono',consolas,'Courier New',monospace\"><span style=\"color: #7fbfbf; text-decoration-color: #7fbfbf\">                               </span><span style=\"color: #800000; text-decoration-color: #800000\">WARNING: Structure at </span><span style=\"color: #008000; text-decoration-color: #008000\">'structures[0]'</span><span style=\"color: #800000; text-decoration-color: #800000\"> has bounds </span>\n",
       "<span style=\"color: #7fbfbf; text-decoration-color: #7fbfbf\">                               </span><span style=\"color: #800000; text-decoration-color: #800000\">that extend exactly to simulation edges. This can</span>\n",
       "<span style=\"color: #7fbfbf; text-decoration-color: #7fbfbf\">                               </span><span style=\"color: #800000; text-decoration-color: #800000\">cause unexpected behavior. If intending to extend</span>\n",
       "<span style=\"color: #7fbfbf; text-decoration-color: #7fbfbf\">                               </span><span style=\"color: #800000; text-decoration-color: #800000\">the structure to infinity along one dimension,   </span>\n",
       "<span style=\"color: #7fbfbf; text-decoration-color: #7fbfbf\">                               </span><span style=\"color: #800000; text-decoration-color: #800000\">use td.inf as a size variable instead to make    </span>\n",
       "<span style=\"color: #7fbfbf; text-decoration-color: #7fbfbf\">                               </span><span style=\"color: #800000; text-decoration-color: #800000\">this explicit.                                   </span>\n",
       "</pre>\n"
      ],
      "text/plain": [
       "\u001b[2;36m                              \u001b[0m\u001b[2;36m \u001b[0m\u001b[31mWARNING: Structure at \u001b[0m\u001b[32m'structures\u001b[0m\u001b[32m[\u001b[0m\u001b[32m0\u001b[0m\u001b[32m]\u001b[0m\u001b[32m'\u001b[0m\u001b[31m has bounds \u001b[0m\n",
       "\u001b[2;36m                               \u001b[0m\u001b[31mthat extend exactly to simulation edges. This can\u001b[0m\n",
       "\u001b[2;36m                               \u001b[0m\u001b[31mcause unexpected behavior. If intending to extend\u001b[0m\n",
       "\u001b[2;36m                               \u001b[0m\u001b[31mthe structure to infinity along one dimension,   \u001b[0m\n",
       "\u001b[2;36m                               \u001b[0m\u001b[31muse td.inf as a size variable instead to make    \u001b[0m\n",
       "\u001b[2;36m                               \u001b[0m\u001b[31mthis explicit.                                   \u001b[0m\n"
      ]
     },
     "metadata": {},
     "output_type": "display_data"
    },
    {
     "data": {
      "text/html": [
       "<pre style=\"white-space:pre;overflow-x:auto;line-height:normal;font-family:Menlo,'DejaVu Sans Mono',consolas,'Courier New',monospace\"><span style=\"color: #7fbfbf; text-decoration-color: #7fbfbf\">                               </span><span style=\"color: #800000; text-decoration-color: #800000\">WARNING: Suppressed </span><span style=\"color: #008080; text-decoration-color: #008080; font-weight: bold\">2</span><span style=\"color: #800000; text-decoration-color: #800000\"> WARNING messages.          </span>\n",
       "</pre>\n"
      ],
      "text/plain": [
       "\u001b[2;36m                              \u001b[0m\u001b[2;36m \u001b[0m\u001b[31mWARNING: Suppressed \u001b[0m\u001b[1;36m2\u001b[0m\u001b[31m WARNING messages.          \u001b[0m\n"
      ]
     },
     "metadata": {},
     "output_type": "display_data"
    },
    {
     "name": "stdout",
     "output_type": "stream",
     "text": [
      "Loading cached simulation from C:\\Users\\irfan\\.tidy3d\\pf_cache\\ZI3\\fdtd_info-CPZPRGIUDT6ZJTAHWN3PV4SHLO4537SEQOY2PERN22JBNLTJN7GA.json.\n"
     ]
    },
    {
     "data": {
      "text/html": [
       "<pre style=\"white-space:pre;overflow-x:auto;line-height:normal;font-family:Menlo,'DejaVu Sans Mono',consolas,'Courier New',monospace\"><span style=\"color: #7fbfbf; text-decoration-color: #7fbfbf\">                               </span><span style=\"color: #800000; text-decoration-color: #800000\">WARNING: Structure at </span><span style=\"color: #008000; text-decoration-color: #008000\">'structures[0]'</span><span style=\"color: #800000; text-decoration-color: #800000\"> has bounds </span>\n",
       "<span style=\"color: #7fbfbf; text-decoration-color: #7fbfbf\">                               </span><span style=\"color: #800000; text-decoration-color: #800000\">that extend exactly to simulation edges. This can</span>\n",
       "<span style=\"color: #7fbfbf; text-decoration-color: #7fbfbf\">                               </span><span style=\"color: #800000; text-decoration-color: #800000\">cause unexpected behavior. If intending to extend</span>\n",
       "<span style=\"color: #7fbfbf; text-decoration-color: #7fbfbf\">                               </span><span style=\"color: #800000; text-decoration-color: #800000\">the structure to infinity along one dimension,   </span>\n",
       "<span style=\"color: #7fbfbf; text-decoration-color: #7fbfbf\">                               </span><span style=\"color: #800000; text-decoration-color: #800000\">use td.inf as a size variable instead to make    </span>\n",
       "<span style=\"color: #7fbfbf; text-decoration-color: #7fbfbf\">                               </span><span style=\"color: #800000; text-decoration-color: #800000\">this explicit.                                   </span>\n",
       "</pre>\n"
      ],
      "text/plain": [
       "\u001b[2;36m                              \u001b[0m\u001b[2;36m \u001b[0m\u001b[31mWARNING: Structure at \u001b[0m\u001b[32m'structures\u001b[0m\u001b[32m[\u001b[0m\u001b[32m0\u001b[0m\u001b[32m]\u001b[0m\u001b[32m'\u001b[0m\u001b[31m has bounds \u001b[0m\n",
       "\u001b[2;36m                               \u001b[0m\u001b[31mthat extend exactly to simulation edges. This can\u001b[0m\n",
       "\u001b[2;36m                               \u001b[0m\u001b[31mcause unexpected behavior. If intending to extend\u001b[0m\n",
       "\u001b[2;36m                               \u001b[0m\u001b[31mthe structure to infinity along one dimension,   \u001b[0m\n",
       "\u001b[2;36m                               \u001b[0m\u001b[31muse td.inf as a size variable instead to make    \u001b[0m\n",
       "\u001b[2;36m                               \u001b[0m\u001b[31mthis explicit.                                   \u001b[0m\n"
      ]
     },
     "metadata": {},
     "output_type": "display_data"
    },
    {
     "data": {
      "text/html": [
       "<pre style=\"white-space:pre;overflow-x:auto;line-height:normal;font-family:Menlo,'DejaVu Sans Mono',consolas,'Courier New',monospace\"><span style=\"color: #7fbfbf; text-decoration-color: #7fbfbf\">                               </span><span style=\"color: #800000; text-decoration-color: #800000\">WARNING: Suppressed </span><span style=\"color: #008080; text-decoration-color: #008080; font-weight: bold\">2</span><span style=\"color: #800000; text-decoration-color: #800000\"> WARNING messages.          </span>\n",
       "</pre>\n"
      ],
      "text/plain": [
       "\u001b[2;36m                              \u001b[0m\u001b[2;36m \u001b[0m\u001b[31mWARNING: Suppressed \u001b[0m\u001b[1;36m2\u001b[0m\u001b[31m WARNING messages.          \u001b[0m\n"
      ]
     },
     "metadata": {},
     "output_type": "display_data"
    },
    {
     "name": "stdout",
     "output_type": "stream",
     "text": [
      "Loading cached simulation from C:\\Users\\irfan\\.tidy3d\\pf_cache\\ZI3\\fdtd_info-SAGVGFB5H2P7CS3UVAWTQREIOSQSR7YDW72YNL2J3FEWXKJ22PUA.json.\n"
     ]
    },
    {
     "data": {
      "text/html": [
       "<pre style=\"white-space:pre;overflow-x:auto;line-height:normal;font-family:Menlo,'DejaVu Sans Mono',consolas,'Courier New',monospace\"><span style=\"color: #7fbfbf; text-decoration-color: #7fbfbf\">                               </span><span style=\"color: #800000; text-decoration-color: #800000\">WARNING: Structure at </span><span style=\"color: #008000; text-decoration-color: #008000\">'structures[0]'</span><span style=\"color: #800000; text-decoration-color: #800000\"> has bounds </span>\n",
       "<span style=\"color: #7fbfbf; text-decoration-color: #7fbfbf\">                               </span><span style=\"color: #800000; text-decoration-color: #800000\">that extend exactly to simulation edges. This can</span>\n",
       "<span style=\"color: #7fbfbf; text-decoration-color: #7fbfbf\">                               </span><span style=\"color: #800000; text-decoration-color: #800000\">cause unexpected behavior. If intending to extend</span>\n",
       "<span style=\"color: #7fbfbf; text-decoration-color: #7fbfbf\">                               </span><span style=\"color: #800000; text-decoration-color: #800000\">the structure to infinity along one dimension,   </span>\n",
       "<span style=\"color: #7fbfbf; text-decoration-color: #7fbfbf\">                               </span><span style=\"color: #800000; text-decoration-color: #800000\">use td.inf as a size variable instead to make    </span>\n",
       "<span style=\"color: #7fbfbf; text-decoration-color: #7fbfbf\">                               </span><span style=\"color: #800000; text-decoration-color: #800000\">this explicit.                                   </span>\n",
       "</pre>\n"
      ],
      "text/plain": [
       "\u001b[2;36m                              \u001b[0m\u001b[2;36m \u001b[0m\u001b[31mWARNING: Structure at \u001b[0m\u001b[32m'structures\u001b[0m\u001b[32m[\u001b[0m\u001b[32m0\u001b[0m\u001b[32m]\u001b[0m\u001b[32m'\u001b[0m\u001b[31m has bounds \u001b[0m\n",
       "\u001b[2;36m                               \u001b[0m\u001b[31mthat extend exactly to simulation edges. This can\u001b[0m\n",
       "\u001b[2;36m                               \u001b[0m\u001b[31mcause unexpected behavior. If intending to extend\u001b[0m\n",
       "\u001b[2;36m                               \u001b[0m\u001b[31mthe structure to infinity along one dimension,   \u001b[0m\n",
       "\u001b[2;36m                               \u001b[0m\u001b[31muse td.inf as a size variable instead to make    \u001b[0m\n",
       "\u001b[2;36m                               \u001b[0m\u001b[31mthis explicit.                                   \u001b[0m\n"
      ]
     },
     "metadata": {},
     "output_type": "display_data"
    },
    {
     "data": {
      "text/html": [
       "<pre style=\"white-space:pre;overflow-x:auto;line-height:normal;font-family:Menlo,'DejaVu Sans Mono',consolas,'Courier New',monospace\"><span style=\"color: #7fbfbf; text-decoration-color: #7fbfbf\">                               </span><span style=\"color: #800000; text-decoration-color: #800000\">WARNING: Suppressed </span><span style=\"color: #008080; text-decoration-color: #008080; font-weight: bold\">2</span><span style=\"color: #800000; text-decoration-color: #800000\"> WARNING messages.          </span>\n",
       "</pre>\n"
      ],
      "text/plain": [
       "\u001b[2;36m                              \u001b[0m\u001b[2;36m \u001b[0m\u001b[31mWARNING: Suppressed \u001b[0m\u001b[1;36m2\u001b[0m\u001b[31m WARNING messages.          \u001b[0m\n"
      ]
     },
     "metadata": {},
     "output_type": "display_data"
    }
   ],
   "source": [
    "wavelengths = np.linspace(1.5, 1.6, 11)\n",
    "freqs = pf.C_0 / wavelengths\n",
    "\n",
    "ring_resonator = parametric_ring_resonator(port_spec=\"Rib_TE_1550_500\", coupling_distance=0.7)\n",
    "\n",
    "s_matrix = ring_resonator.s_matrix(freqs)"
   ]
  },
  {
   "cell_type": "code",
   "execution_count": null,
   "id": "31e314bc",
   "metadata": {},
   "outputs": [
    {
     "data": {
      "text/plain": [
       "SMatrix(frequencies=[1.99862e+14, 1.98538e+14, 1.97232e+14, 1.95943e+14, 1.9467e+14, 1.93414e+14, 1.92175e+14, 1.90951e+14, 1.89742e+14, 1.88549e+14, 1.8737e+14], elements={('P0@0', 'P0@0'): [0.000655515+0.000507607j, 0.000199255-0.000266602j, -9.98918e-05-0.000357863j, 0.000109509-3.17527e-05j, -0.000388424+4.95791e-05j, -2.08627e-05+0.000631471j, 0.000606293+0.000307127j, -0.000162956-0.000229928j, 0.000170003-0.000334172j, -0.00021787-0.00051281j, -0.00155828-4.81386e-05j], ('P3@0', 'P3@0'): [0.000655515+0.000507607j, 0.000199255-0.000266602j, -9.98918e-05-0.000357863j, 0.000109509-3.17527e-05j, -0.000388424+4.95791e-05j, -2.08627e-05+0.000631471j, 0.000606293+0.000307127j, -0.000162956-0.000229928j, 0.000170003-0.000334172j, -0.00021787-0.00051281j, -0.00155828-4.81386e-05j], ('P3@0', 'P1@0'): [-0.868367+0.48248j, 0.086745+0.99434j, 0.892704+0.442708j, 0.791397-0.605973j, -0.0694771-0.994476j, -0.911599-0.39874j, -0.857188+0.508256j, 0.0294127+0.993285j, 0.802774+0.58852j, 0.911895-0.394667j, 0.28667-0.950114j], ('P1@0', 'P3@0'): [-0.868344+0.482477j, 0.0867605+0.99433j, 0.892696+0.442699j, 0.791389-0.605978j, -0.0694799-0.994472j, -0.911596-0.39874j, -0.857194+0.508257j, 0.0294011+0.993289j, 0.802786+0.588531j, 0.911906-0.394647j, 0.286688-0.950143j], ('P1@0', 'P1@0'): [-2.87024e-05+0.000506476j, 0.000178798+3.50965e-05j, 0.000350476-8.63116e-05j, 6.93233e-05+6.86927e-06j, -0.00029906-0.000325888j, -0.000353727+0.000500283j, 5.96529e-05+0.000500798j, -0.000201258-0.000190581j, 0.000613095+2.07863e-05j, 0.000109897-0.000765089j, -0.00105422-0.000800714j], ('P2@0', 'P0@0'): [-0.868344+0.482477j, 0.0867605+0.99433j, 0.892696+0.442699j, 0.791389-0.605978j, -0.0694799-0.994472j, -0.911596-0.39874j, -0.857194+0.508257j, 0.0294011+0.993289j, 0.802786+0.588531j, 0.911906-0.394647j, 0.286688-0.950143j], ('P2@0', 'P2@0'): [-2.87024e-05+0.000506476j, 0.000178798+3.50965e-05j, 0.000350476-8.63116e-05j, 6.93233e-05+6.86927e-06j, -0.00029906-0.000325888j, -0.000353727+0.000500283j, 5.96529e-05+0.000500798j, -0.000201258-0.000190581j, 0.000613095+2.07863e-05j, 0.000109897-0.000765089j, -0.00105422-0.000800714j], ('P0@0', 'P2@0'): [-0.868367+0.48248j, 0.086745+0.99434j, 0.892704+0.442708j, 0.791397-0.605973j, -0.0694771-0.994476j, -0.911599-0.39874j, -0.857188+0.508256j, 0.0294127+0.993285j, 0.802774+0.58852j, 0.911895-0.394667j, 0.28667-0.950114j], ('P2@0', 'P3@0'): [-0.0217412-0.0489764j, -0.0288707+0.00350498j, 0.0202082-0.0357846j, -0.0248944-0.0291304j, 0.0397317-0.00110547j, 0.0160497-0.045128j, 0.0202743+0.0376295j, 0.053889-0.00584714j, -0.0312086+0.0383791j, 0.0257785+0.0492464j, -0.0583176-0.02245j], ('P1@0', 'P0@0'): [-0.0217412-0.0489764j, -0.0288707+0.00350498j, 0.0202082-0.0357846j, -0.0248944-0.0291304j, 0.0397317-0.00110547j, 0.0160497-0.045128j, 0.0202743+0.0376295j, 0.053889-0.00584714j, -0.0312086+0.0383791j, 0.0257785+0.0492464j, -0.0583176-0.02245j], ('P0@0', 'P3@0'): [0.000488123+0.000206492j, 5.52074e-05+5.47709e-06j, -6.55248e-05+0.000402159j, 7.83139e-05-2.86269e-06j, -0.000164031+0.000143918j, 6.07143e-05-0.00025559j, -0.000366383-0.00050768j, -0.000176167-4.11709e-05j, 3.32467e-05-0.000387689j, 6.15533e-05-1.33613e-05j, 0.000980224+0.000117723j], ('P3@0', 'P0@0'): [0.000488123+0.000206492j, 5.52074e-05+5.47709e-06j, -6.55248e-05+0.000402159j, 7.83139e-05-2.86269e-06j, -0.000164031+0.000143918j, 6.07143e-05-0.00025559j, -0.000366383-0.00050768j, -0.000176167-4.11709e-05j, 3.32467e-05-0.000387689j, 6.15533e-05-1.33613e-05j, 0.000980224+0.000117723j], ('P0@0', 'P1@0'): [-0.0217455-0.0489642j, -0.0288659+0.0035052j, 0.0202007-0.0357807j, -0.0248928-0.0291283j, 0.0397305-0.00110648j, 0.0160524-0.0451271j, 0.0202721+0.0376329j, 0.0538969-0.00584385j, -0.0312236+0.0383808j, 0.0257753+0.049263j, -0.058322-0.0224768j], ('P2@0', 'P1@0'): [-0.000110208+0.000317624j, 5.92729e-06-4.56194e-05j, -0.000342312+9.43039e-05j, -9.55633e-05+0.00019183j, -0.000135125-0.000161294j, 0.000205713-0.000301969j, 6.65239e-05-0.0005939j, -0.000219823-0.000398039j, 0.00031134-0.00012581j, -1.76415e-05+0.000152624j, 0.000524224+0.000745118j], ('P3@0', 'P2@0'): [-0.0217455-0.0489642j, -0.0288659+0.0035052j, 0.0202007-0.0357807j, -0.0248928-0.0291283j, 0.0397305-0.00110648j, 0.0160524-0.0451271j, 0.0202721+0.0376329j, 0.0538969-0.00584385j, -0.0312236+0.0383808j, 0.0257753+0.049263j, -0.058322-0.0224768j], ('P1@0', 'P2@0'): [-0.000110208+0.000317624j, 5.92729e-06-4.56194e-05j, -0.000342312+9.43039e-05j, -9.55633e-05+0.00019183j, -0.000135125-0.000161294j, 0.000205713-0.000301969j, 6.65239e-05-0.0005939j, -0.000219823-0.000398039j, 0.00031134-0.00012581j, -1.76415e-05+0.000152624j, 0.000524224+0.000745118j]}, ports={'P0': Port(center=(-5, -5.7), input_direction=0, spec=PortSpec(description=\"Rib (90 nm slab) TE 1550 nm, w=500 nm\", width=2.5, limits=(-1, 1.22), num_modes=1, added_solver_modes=0, polarization=\"\", target_neff=3.5, default_radius=0, path_profiles=[(0.5, 0, (1, 0)), (3, 0, (2, 0))]), extended=True, inverted=False, bend_radius=0), 'P1': Port(center=(-5, 5.7), input_direction=0, spec=PortSpec(description=\"Rib (90 nm slab) TE 1550 nm, w=500 nm\", width=2.5, limits=(-1, 1.22), num_modes=1, added_solver_modes=0, polarization=\"\", target_neff=3.5, default_radius=0, path_profiles=[(0.5, 0, (1, 0)), (3, 0, (2, 0))]), extended=True, inverted=False, bend_radius=0), 'P2': Port(center=(5, -5.7), input_direction=180, spec=PortSpec(description=\"Rib (90 nm slab) TE 1550 nm, w=500 nm\", width=2.5, limits=(-1, 1.22), num_modes=1, added_solver_modes=0, polarization=\"\", target_neff=3.5, default_radius=0, path_profiles=[(0.5, 0, (1, 0)), (3, 0, (2, 0))]), extended=True, inverted=False, bend_radius=0), 'P3': Port(center=(5, 5.7), input_direction=180, spec=PortSpec(description=\"Rib (90 nm slab) TE 1550 nm, w=500 nm\", width=2.5, limits=(-1, 1.22), num_modes=1, added_solver_modes=0, polarization=\"\", target_neff=3.5, default_radius=0, path_profiles=[(0.5, 0, (1, 0)), (3, 0, (2, 0))]), extended=True, inverted=False, bend_radius=0)})"
      ]
     },
     "execution_count": 6,
     "metadata": {},
     "output_type": "execute_result"
    }
   ],
   "source": []
  },
  {
   "cell_type": "code",
   "execution_count": null,
   "id": "2efac294",
   "metadata": {},
   "outputs": [
    {
     "data": {
      "text/plain": [
       "{'Waveguide': WaveguideModel(n_complex=None, length=None, mesh_refinement=None, verbose=True),\n",
       " 'Tidy3D': Tidy3DModel(run_time=None, medium=None, symmetry=(0, 0, 0), boundary_spec=None, monitors=(), structures=(), grid_spec=None, shutoff=None, subpixel=None, courant=None, port_symmetries=[('P1', 'P0')], bounds=((None, None, None), (None, None, None)), source_gap=None, simulation_updates={}, verbose=True)}"
      ]
     },
     "execution_count": 9,
     "metadata": {},
     "output_type": "execute_result"
    }
   ],
   "source": [
    "test_component = pf.Component(\"test_component\")\n",
    "\n",
    "ring_resonator = parametric_ring_resonator(port_spec=\"Rib_TE_1550_500\", coupling_distance=0.7)\n",
    "straight_waveguide = pf.parametric.straight(port_spec=\"Rib_TE_1550_500\", length=10)\n",
    "ref1 = test_component.add_reference(ring_resonator)\n",
    "ref2 = test_component.add_reference(straight_waveguide)\n",
    "ref3 = test_component.add_reference(ring_resonator)\n",
    "\n",
    "ref1.connect(\"P3\", ref2[\"P0\"])\n",
    "ref3.connect(\"P0\", ref2[\"P1\"])"
   ]
  }
 ],
 "metadata": {
  "kernelspec": {
   "display_name": "Python 3",
   "language": "python",
   "name": "python3"
  },
  "language_info": {
   "codemirror_mode": {
    "name": "ipython",
    "version": 3
   },
   "file_extension": ".py",
   "mimetype": "text/x-python",
   "name": "python",
   "nbconvert_exporter": "python",
   "pygments_lexer": "ipython3",
   "version": "3.13.7"
  }
 },
 "nbformat": 4,
 "nbformat_minor": 5
}
